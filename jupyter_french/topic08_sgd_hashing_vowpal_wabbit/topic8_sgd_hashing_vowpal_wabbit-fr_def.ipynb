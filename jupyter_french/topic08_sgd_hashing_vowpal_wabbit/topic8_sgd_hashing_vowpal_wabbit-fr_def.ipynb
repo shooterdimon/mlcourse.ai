{
  "cells": [
    {
      "metadata": {
        "lang": "fr"
      },
      "cell_type": "markdown",
      "source": "<center>\n<img src=\"https://raw.githubusercontent.com/Yorko/mlcourse.ai/master/img/ods_stickers.jpg\" />\n    \n## [mlcourse.ai](https://mlcourse.ai) - Open Machine Learning Course\n\n<center>\nAuteur: [Yury Kashnitskiy](https://yorko.github.io).  \nTraduit et édité par [Serge Oreshkov](https://www.linkedin.com/in/sergeoreshkov/), [Yuanyuan Pao](https://www.linkedin.com/in/yuanyuanpao/) et [Ousmane Cissé](https://www.linkedin.com/in/ousmane-ciss%C3%A9/).  \nCe matériel est soumis aux termes et conditions de la licence [Creative Commons CC BY-NC-SA 4.0](https://creativecommons.org/licenses/by-nc-sa/4.0/).  \nL'utilisation gratuite est autorisée à des fins non commerciales.\n\n# <center> Topic 8. Vowpal Wabbit: apprendre avec des gigaoctets de données\nCette semaine, nous aborderons deux raisons qui expliquent la vitesse d'entraînement exceptionnelle de Vowpal Wabbit, à savoir l'apprentissage en ligne et le hashing trick, tant en théorie qu'en pratique. Nous allons l'essayer avec des articles d'actualités, des critiques de films et des questions sur le StackOverflow."
    },
    {
      "metadata": {
        "lang": "fr"
      },
      "cell_type": "markdown",
      "source": "# Plan de l'article\n1. [Stochastic gradient descent and online learning](#1.-Stochastic-gradient-descent-and-online-learning)\n    - 1.1. [SGD](#1.1.-Stochastic-gradient-descent)\n    - 1.2. [Online approach to learning](#1.2.-Online-approach-to-learning)\n2. [Categorical feature processing](#2.-Categorical-feature-processing)\n    - 2.1. [Label Encoding](#2.1.-Label-Encoding)\n    - 2.2. [One-Hot Encoding](#2.2.-One-Hot-Encoding)\n    - 2.3. [Hashing trick](#2.3.-Hashing-trick)\n3. [Vowpal Wabbit](#3.-Vowpal-Wabbit)\n    - 3.1. [News. Binary classification](#3.1.-News.-Binary-classification)\n    - 3.2. [News. Multiclass classification](#3.2.-News.-Multiclass-classification)\n    - 3.3. [IMDB movie reviews](#3.3.-IMDB-movie-reviews)\n    - 3.4. [Classifying gigabytes of StackOverflow questions](#3.4.-Classifying-gigabytes-of-StackOverflow-questions)\n4. [Demo assignment](#4.-Demo-assignment)\n5. [Useful resources](#5.-Useful-resources)"
    },
    {
      "metadata": {
        "_cell_guid": "64efb6ef-3591-4036-8461-b7b467f404b7",
        "_uuid": "bd1f11458028d021571d4a77e3de846bf0dee992",
        "trusted": false
      },
      "cell_type": "code",
      "source": "import warnings\nimport os\nimport re\nimport numpy as np\nimport pandas as pd\nfrom tqdm import tqdm_notebook\nfrom sklearn.datasets import fetch_20newsgroups, load_files\nfrom sklearn.preprocessing import LabelEncoder, OneHotEncoder\nfrom sklearn.model_selection import train_test_split\nfrom sklearn.linear_model import LogisticRegression\nfrom sklearn.metrics import classification_report, accuracy_score, log_loss\nfrom sklearn.metrics import roc_auc_score, roc_curve, confusion_matrix\nfrom scipy.sparse import csr_matrix\nimport matplotlib.pyplot as plt\n%matplotlib inline\nimport seaborn as sns",
      "execution_count": 1,
      "outputs": []
    },
    {
      "metadata": {
        "trusted": false
      },
      "cell_type": "code",
      "source": "warnings.filterwarnings('ignore')",
      "execution_count": 2,
      "outputs": []
    },
    {
      "metadata": {
        "lang": "fr"
      },
      "cell_type": "markdown",
      "source": "## 1. Descente de gradient stochastique et apprentissage en ligne\n### 1.1. Descente de gradient stochastique\n\nBien que la descente de gradient soit l'une des premières choses apprises dans les cours d'apprentissage automatique et d'optimisation, c'est l'une de ses modifications, la descente de gradient stochastique (SGD), qui est difficile à surmonter.\n\nRappelons que l'idée de la descente en gradient est de minimiser certaines fonctions en faisant de petits pas dans le sens de la décroissance la plus rapide. Cette méthode a été nommée en raison du fait suivant du calcul: le vecteur $\\nabla f = (\\frac{\\partial f}{\\partial x_1}, \\ldots \\frac{\\partial f}{\\partial x_n})^\\text{T}$ des dérivées partielles de la fonction $f(x) = f(x_1, \\ldots x_n)$ pointe vers la direction de la croissance de la fonction la plus rapide. Cela signifie qu'en se déplaçant dans la direction opposée (antigradient), il est possible de diminuer la valeur de la fonction avec le taux le plus rapide.\n\n<img src='https://habrastorage.org/files/4f2/75d/a46/4f275da467a44fc4a8d1a11007776ed2.jpg' width=50%>\n\nVoici un snowboarder (moi) à Sheregesh, la station d'hiver la plus populaire de Russie. (Je le recommande vivement si vous aimez le ski ou le snowboard). En plus de faire la publicité des beaux paysages, cette image dépeint l'idée d'une descente en pente. Si vous voulez rouler le plus vite possible, vous devez choisir le chemin de descente le plus raide. Le calcul des antigradients peut être considéré comme une évaluation de la pente à divers endroits."
    },
    {
      "metadata": {
        "lang": "fr"
      },
      "cell_type": "markdown",
      "source": "**Exemple**\n\nLe problème de la régression par paires peut être résolu par la descente en pente. Prévoyons une variable à l'aide d'une autre : la taille avec le poids. Supposons que ces variables soient linéairement dépendantes. Nous utiliserons l'ensemble de données [SOCR](http://wiki.stat.ucla.edu/socr/index.php/SOCR_Data)."
    },
    {
      "metadata": {
        "_cell_guid": "84022022-7ce2-4fac-90ae-3cefc5a12961",
        "_uuid": "0873cf8a28158f2ebdd5b3b42d3026efcd8e6b58",
        "trusted": false
      },
      "cell_type": "code",
      "source": "PATH_TO_ALL_DATA = '../../data/'\ndata_demo = pd.read_csv(os.path.join(PATH_TO_ALL_DATA,\n                                     'weights_heights.csv'))",
      "execution_count": 3,
      "outputs": []
    },
    {
      "metadata": {
        "_cell_guid": "094aa0fc-8af4-4a13-88a7-4eedf53fd712",
        "_uuid": "a60148fd610f423b517a38dad8768f0f6c76d192",
        "trusted": false
      },
      "cell_type": "code",
      "source": "plt.scatter(data_demo['Weight'], data_demo['Height']);\nplt.xlabel('Weight in lb')\nplt.ylabel('Height in inches');",
      "execution_count": 4,
      "outputs": [
        {
          "data": {
            "image/png": "[encoded data removed]",
            "text/plain": "<Figure size 432x288 with 1 Axes>"
          },
          "metadata": {},
          "output_type": "display_data"
        }
      ]
    },
    {
      "metadata": {
        "lang": "fr"
      },
      "cell_type": "markdown",
      "source": "Nous avons un vecteur $x$ de dimension $\\ell$ (poids de chaque personne, c'est-à-dire un échantillon d'entraînement) et $y$, un vecteur contenant la taille de chaque personne dans l'ensemble de données.\n\nLa tâche est la suivante: trouver les poids $w_0$ et $w_1$ de telle sorte que la prédiction de la hauteur comme $y_i = w_0 + w_1 x_i$ (où $y_i$ est la valeur de hauteur $i$-th, $x_i$ est la valeur de poids $i$-th) minimise l'erreur quadratique (ainsi que l'erreur quadratique moyenne car $\\frac{1}{\\ell}$ ne fait aucune différence):\n$$SE(w_0, w_1) = \\frac{1}{2}\\sum_{i=1}^\\ell(y_i - (w_0 + w_1x_{i}))^2 \\rightarrow min_{w_0,w_1}$$\n\nNous utiliserons la descente de gradient, en utilisant les dérivées partielles de $SE(w_0, w_1)$ sur les poids $w_0$ et $w_1$.\nUne procédure d'apprentissage itérative est alors définie par de simples formules de mise à jour (on modifie les poids du modèle par petits pas, proportionnels à une petite constante $\\eta$, vers l'antigradient de la fonction $SE(w_0, w_1)$):\n\n$$\\begin{array}{rcl} w_0^{(t+1)} = w_0^{(t)} -\\eta \\frac{\\partial SE}{\\partial w_0} |_{t} \\\\  w_1^{(t+1)} = w_1^{(t)} -\\eta \\frac{\\partial SE}{\\partial w_1} |_{t} \\end{array}$$\n\nEn calculant les dérivées partielles, nous obtenons ce qui suit:\n\n$$\\begin{array}{rcl} w_0^{(t+1)} = w_0^{(t)} + \\eta \\sum_{i=1}^{\\ell}(y_i - w_0^{(t)} - w_1^{(t)}x_i) \\\\  w_1^{(t+1)} = w_1^{(t)} + \\eta \\sum_{i=1}^{\\ell}(y_i - w_0^{(t)} - w_1^{(t)}x_i)x_i \\end{array}$$\n\nCe calcul fonctionne très bien tant que la quantité de données n'est pas importante (nous ne discuterons pas des problèmes avec les minima locaux, les points-selle, le choix du taux d'apprentissage, des moments et d'autres choses - ces sujets sont traités en détail dans [the Numeric Computation chapter in \"Deep Learning\"](http://www.deeplearningbook.org/contents/numerical.html)).\nIl y a un problème avec la descente de gradient par lots - l'évaluation du gradient nécessite la somme d'un certain nombre de valeurs pour chaque objet de l'ensemble d'apprentissage. En d'autres termes, l'algorithme nécessite beaucoup d'itérations, et chaque itération recalcule les poids avec une formule qui contient une somme $\\sum_{i=1}^\\ell$ sur l'ensemble de l'entraînement. Que se passe-t-il lorsque nous avons des milliards d'échantillons d'entraînement?\n\n<img src=\"https://habrastorage.org/webt/ow/ng/cs/owngcs-lzoguklv1pn9vz_r4ssm.jpeg\" />\n\nD'où la motivation pour une descente de gradient stochastique! Autrement dit, nous jetons le signe de sommation et mettons à jour les poids uniquement sur des échantillons d'entraînement uniques (ou un petit nombre d'entre eux). Dans notre cas, nous avons les éléments suivants:\n\n$$\\begin{array}{rcl} w_0^{(t+1)} = w_0^{(t)} + \\eta (y_i - w_0^{(t)} - w_1^{(t)}x_i) \\\\  w_1^{(t+1)} = w_1^{(t)} + \\eta (y_i - w_0^{(t)} - w_1^{(t)}x_i)x_i \\end{array}$$\n\nAvec cette approche, rien ne garantit que nous irons dans la meilleure direction possible à chaque itération. Par conséquent, nous pouvons avoir besoin de beaucoup plus d'itérations, mais nous obtenons des mises à jour de poids beaucoup plus rapides."
    },
    {
      "metadata": {
        "lang": "fr"
      },
      "cell_type": "markdown",
      "source": "Andrew Ng a fait une bonne illustration dans son [cours d'apprentissage automatique](https://www.coursera.org/learn/machine-learning). Jetons un coup d'oeil.\n\n<img src='https://habrastorage.org/files/f8d/90c/f83/f8d90cf83b044255bb07df3373f25fc7.png'>\n\nCe sont les tracés de contour pour une fonction, et nous voulons trouver le minimum global de cette fonction. La courbe rouge montre les changements de poids (dans cette image, $\\theta_0$ et $\\theta_1$ correspondent à nos $w_0$ et $w_1$). Selon les propriétés d'un gradient, la direction du changement en chaque point est orthogonale aux courbes de niveau. Avec la descente de gradient stochastique, les poids changent de manière moins prévisible, et il peut même sembler que certaines étapes sont fausses en s'éloignant des minima; cependant, les deux procédures convergent vers la même solution."
    },
    {
      "metadata": {
        "lang": "fr"
      },
      "cell_type": "markdown",
      "source": "### 1.2. Approche d'apprentissage en ligne\nLa descente de gradient stochastique nous donne des conseils pratiques pour la formation des classificateurs et des régresseurs avec de grandes quantités de données jusqu'à des centaines de Go (en fonction des ressources de calcul).\n\nEn considérant le cas de la régression par paires, nous pouvons stocker l'ensemble de données d'apprentissage $(X,y)$ dans le disque dur sans le charger dans la RAM (où il ne rentre tout simplement pas), lire les objets un par un et mettre à jour les poids de notre modèle:\n\n$$\\begin{array}{rcl} w_0^{(t+1)} = w_0^{(t)} + \\eta (y_i - w_0^{(t)} - w_1^{(t)}x_i) \\\\  w_1^{(t+1)} = w_1^{(t)} + \\eta (y_i - w_0^{(t)} - w_1^{(t)}x_i)x_i \\end{array}$$\n\nAprès avoir travaillé sur la totalité de l'ensemble de données d'entraînement, notre fonction de perte (par exemple, l'erreur quadratique de racine carrée dans la régression ou la perte logistique dans la classification) diminuera, mais il faut généralement des dizaines de passes sur l'ensemble d'entraînement pour rendre la perte suffisamment petite.\n\nCette approche de l'apprentissage s'appelle **apprentissage en ligne**, et ce nom est apparu avant même que les MOOC d'apprentissage automatique ne deviennent courants.\n\nNous n'avons pas discuté ici de nombreux détails sur SGD. Si vous voulez plonger dans la théorie, je vous recommande vivement [\"Convex Optimization\" de Stephen Boyd](https://www.amazon.com/Convex-Optimization-Stephen-Boyd/dp/0521833787). Maintenant, nous allons présenter la bibliothèque Vowpal Wabbit, qui est idéale pour entraîner des modèles simples avec d'énormes ensembles de données grâce à l'optimisation stochastique et à une autre astuce, le hachage de caractéristiques."
    },
    {
      "metadata": {
        "lang": "fr"
      },
      "cell_type": "markdown",
      "source": "Dans scikit-learn, les classificateurs et les régresseurs formés avec SGD sont nommés `SGDClassifier` et` SGDRegressor` dans `sklearn.linear_model`. Ce sont de belles implémentations de SGD, mais nous allons nous concentrer sur VW car il est plus performant que les modèles SGD de sklearn à bien des égards."
    },
    {
      "metadata": {
        "lang": "fr"
      },
      "cell_type": "markdown",
      "source": "## 2. Traitement des caractéristiques catégorielles\n\n### 2.1. Encodage d'étiquettes\nDe nombreux algorithmes de classification et de régression fonctionnent dans l'espace euclidien ou métrique, ce qui implique que les données sont représentées par des vecteurs de nombres réels. Cependant, dans les données réelles, nous avons souvent des caractéristiques catégoriques avec des valeurs discrètes telles que oui / non ou janvier / février /.../ décembre. Nous verrons comment traiter ce type de données, notamment avec des modèles linéaires, et comment traiter de nombreuses caractéristiques catégorielles même lorsqu'elles ont de nombreuses valeurs uniques."
    },
    {
      "metadata": {
        "lang": "fr"
      },
      "cell_type": "markdown",
      "source": "Explorons [l'ensemble de données marketing de la banque UCI](https://archive.ics.uci.edu/ml/datasets/bank+marketing) où la plupart des caractéristiques sont catégoriques."
    },
    {
      "metadata": {
        "_cell_guid": "be6b51fd-ad36-4265-9086-fde116c6d5e4",
        "_uuid": "c8f015ed0ce62cdfc232529b9db5e17f1ebf55f5",
        "trusted": false
      },
      "cell_type": "code",
      "source": "df = pd.read_csv(os.path.join(PATH_TO_ALL_DATA, 'bank_train.csv'))\nlabels = pd.read_csv(os.path.join(PATH_TO_ALL_DATA,\n                                  'bank_train_target.csv'), \n                     header=None)\n\ndf.head()",
      "execution_count": 5,
      "outputs": [
        {
          "data": {
            "text/html": "<div>\n<style scoped>\n    .dataframe tbody tr th:only-of-type {\n        vertical-align: middle;\n    }\n\n    .dataframe tbody tr th {\n        vertical-align: top;\n    }\n\n    .dataframe thead th {\n        text-align: right;\n    }\n</style>\n<table border=\"1\" class=\"dataframe\">\n  <thead>\n    <tr style=\"text-align: right;\">\n      <th></th>\n      <th>age</th>\n      <th>job</th>\n      <th>marital</th>\n      <th>education</th>\n      <th>default</th>\n      <th>housing</th>\n      <th>loan</th>\n      <th>contact</th>\n      <th>month</th>\n      <th>day_of_week</th>\n      <th>duration</th>\n      <th>campaign</th>\n      <th>pdays</th>\n      <th>previous</th>\n      <th>poutcome</th>\n      <th>emp.var.rate</th>\n      <th>cons.price.idx</th>\n      <th>cons.conf.idx</th>\n      <th>euribor3m</th>\n      <th>nr.employed</th>\n    </tr>\n  </thead>\n  <tbody>\n    <tr>\n      <th>0</th>\n      <td>26</td>\n      <td>student</td>\n      <td>single</td>\n      <td>high.school</td>\n      <td>no</td>\n      <td>no</td>\n      <td>no</td>\n      <td>telephone</td>\n      <td>jun</td>\n      <td>mon</td>\n      <td>901</td>\n      <td>1</td>\n      <td>999</td>\n      <td>0</td>\n      <td>nonexistent</td>\n      <td>1.4</td>\n      <td>94.465</td>\n      <td>-41.8</td>\n      <td>4.961</td>\n      <td>5228.1</td>\n    </tr>\n    <tr>\n      <th>1</th>\n      <td>46</td>\n      <td>admin.</td>\n      <td>married</td>\n      <td>university.degree</td>\n      <td>no</td>\n      <td>yes</td>\n      <td>no</td>\n      <td>cellular</td>\n      <td>aug</td>\n      <td>tue</td>\n      <td>208</td>\n      <td>2</td>\n      <td>999</td>\n      <td>0</td>\n      <td>nonexistent</td>\n      <td>1.4</td>\n      <td>93.444</td>\n      <td>-36.1</td>\n      <td>4.963</td>\n      <td>5228.1</td>\n    </tr>\n    <tr>\n      <th>2</th>\n      <td>49</td>\n      <td>blue-collar</td>\n      <td>married</td>\n      <td>basic.4y</td>\n      <td>unknown</td>\n      <td>yes</td>\n      <td>yes</td>\n      <td>telephone</td>\n      <td>jun</td>\n      <td>tue</td>\n      <td>131</td>\n      <td>5</td>\n      <td>999</td>\n      <td>0</td>\n      <td>nonexistent</td>\n      <td>1.4</td>\n      <td>94.465</td>\n      <td>-41.8</td>\n      <td>4.864</td>\n      <td>5228.1</td>\n    </tr>\n    <tr>\n      <th>3</th>\n      <td>31</td>\n      <td>technician</td>\n      <td>married</td>\n      <td>university.degree</td>\n      <td>no</td>\n      <td>no</td>\n      <td>no</td>\n      <td>cellular</td>\n      <td>jul</td>\n      <td>tue</td>\n      <td>404</td>\n      <td>1</td>\n      <td>999</td>\n      <td>0</td>\n      <td>nonexistent</td>\n      <td>-2.9</td>\n      <td>92.469</td>\n      <td>-33.6</td>\n      <td>1.044</td>\n      <td>5076.2</td>\n    </tr>\n    <tr>\n      <th>4</th>\n      <td>42</td>\n      <td>housemaid</td>\n      <td>married</td>\n      <td>university.degree</td>\n      <td>no</td>\n      <td>yes</td>\n      <td>no</td>\n      <td>telephone</td>\n      <td>nov</td>\n      <td>mon</td>\n      <td>85</td>\n      <td>1</td>\n      <td>999</td>\n      <td>0</td>\n      <td>nonexistent</td>\n      <td>-0.1</td>\n      <td>93.200</td>\n      <td>-42.0</td>\n      <td>4.191</td>\n      <td>5195.8</td>\n    </tr>\n  </tbody>\n</table>\n</div>",
            "text/plain": "   age          job  marital          education  default housing loan  \\\n0   26      student   single        high.school       no      no   no   \n1   46       admin.  married  university.degree       no     yes   no   \n2   49  blue-collar  married           basic.4y  unknown     yes  yes   \n3   31   technician  married  university.degree       no      no   no   \n4   42    housemaid  married  university.degree       no     yes   no   \n\n     contact month day_of_week  duration  campaign  pdays  previous  \\\n0  telephone   jun         mon       901         1    999         0   \n1   cellular   aug         tue       208         2    999         0   \n2  telephone   jun         tue       131         5    999         0   \n3   cellular   jul         tue       404         1    999         0   \n4  telephone   nov         mon        85         1    999         0   \n\n      poutcome  emp.var.rate  cons.price.idx  cons.conf.idx  euribor3m  \\\n0  nonexistent           1.4          94.465          -41.8      4.961   \n1  nonexistent           1.4          93.444          -36.1      4.963   \n2  nonexistent           1.4          94.465          -41.8      4.864   \n3  nonexistent          -2.9          92.469          -33.6      1.044   \n4  nonexistent          -0.1          93.200          -42.0      4.191   \n\n   nr.employed  \n0       5228.1  \n1       5228.1  \n2       5228.1  \n3       5076.2  \n4       5195.8  "
          },
          "execution_count": 5,
          "metadata": {},
          "output_type": "execute_result"
        }
      ]
    },
    {
      "metadata": {
        "lang": "fr"
      },
      "cell_type": "markdown",
      "source": "Nous pouvons voir que la plupart des caractéristiques ne sont pas représentées par des nombres. Cela pose un problème car nous ne pouvons pas utiliser la plupart des méthodes d'apprentissage automatique (du moins celles implémentées dans scikit-learn) prêtes à l'emploi.\n\nIntéressons nous à la caractéristique «éducation»."
    },
    {
      "metadata": {
        "_cell_guid": "d5cb0f31-1e52-49a0-9bdb-ae3207541710",
        "_uuid": "136b05d444ff42d4e8521e51066bf9cd22c023fa",
        "trusted": false
      },
      "cell_type": "code",
      "source": "df['education'].value_counts().plot.barh();",
      "execution_count": 6,
      "outputs": [
        {
          "data": {
            "image/png": "[encoded data removed]",
            "text/plain": "<Figure size 432x288 with 1 Axes>"
          },
          "metadata": {},
          "output_type": "display_data"
        }
      ]
    },
    {
      "metadata": {
        "lang": "fr"
      },
      "cell_type": "markdown",
      "source": "La solution la plus simple consiste à mapper chaque valeur de cette fonction en un numéro unique. Par exemple, nous pouvons mapper `university.degree` à 0,` basic.9y` à 1, et ainsi de suite. Vous pouvez utiliser `sklearn.preprocessing.LabelEncoder` pour effectuer ce mappage."
    },
    {
      "metadata": {
        "_cell_guid": "fb569cfb-711b-428d-9a29-5393dff4b348",
        "_uuid": "05c9087139ca3fcdf3b715b9b30f566bdaf0ad1c",
        "trusted": false
      },
      "cell_type": "code",
      "source": "label_encoder = LabelEncoder()",
      "execution_count": 7,
      "outputs": []
    },
    {
      "metadata": {
        "lang": "fr"
      },
      "cell_type": "markdown",
      "source": "La méthode `fit` de cette classe trouve toutes les valeurs uniques et construit le mappage réel entre les catégories et les nombres, et la méthode` transform` convertit les catégories en nombres. Après l'exécution de `fit`,` label _encoder` aura l'attribut `classes_` avec toutes les valeurs uniques de l'entité. Comptons-les pour nous assurer que la transformation était correcte."
    },
    {
      "metadata": {
        "_cell_guid": "c692cf31-3233-4b92-8bb9-de7d7be15315",
        "_uuid": "efe26525483e1c3ba137e8f1c55f92c76ab4c799",
        "trusted": false
      },
      "cell_type": "code",
      "source": "mapped_education = pd.Series(label_encoder.fit_transform(\n    df['education']))\nmapped_education.value_counts().plot.barh()\nprint(dict(enumerate(label_encoder.classes_)))",
      "execution_count": 8,
      "outputs": [
        {
          "name": "stdout",
          "output_type": "stream",
          "text": "{0: 'basic.4y', 1: 'basic.6y', 2: 'basic.9y', 3: 'high.school', 4: 'illiterate', 5: 'professional.course', 6: 'university.degree', 7: 'unknown'}\n"
        },
        {
          "data": {
            "image/png": "[encoded data removed]",
            "text/plain": "<Figure size 432x288 with 1 Axes>"
          },
          "metadata": {},
          "output_type": "display_data"
        }
      ]
    },
    {
      "metadata": {
        "_cell_guid": "4658ebf0-6610-4c6f-88d0-3b1027a5c212",
        "_uuid": "68fba174918a7c498100b8bb2c4f9822a4c9a659",
        "trusted": false
      },
      "cell_type": "code",
      "source": "df['education'] = mapped_education\ndf.head()",
      "execution_count": 9,
      "outputs": [
        {
          "data": {
            "text/html": "<div>\n<style scoped>\n    .dataframe tbody tr th:only-of-type {\n        vertical-align: middle;\n    }\n\n    .dataframe tbody tr th {\n        vertical-align: top;\n    }\n\n    .dataframe thead th {\n        text-align: right;\n    }\n</style>\n<table border=\"1\" class=\"dataframe\">\n  <thead>\n    <tr style=\"text-align: right;\">\n      <th></th>\n      <th>age</th>\n      <th>job</th>\n      <th>marital</th>\n      <th>education</th>\n      <th>default</th>\n      <th>housing</th>\n      <th>loan</th>\n      <th>contact</th>\n      <th>month</th>\n      <th>day_of_week</th>\n      <th>duration</th>\n      <th>campaign</th>\n      <th>pdays</th>\n      <th>previous</th>\n      <th>poutcome</th>\n      <th>emp.var.rate</th>\n      <th>cons.price.idx</th>\n      <th>cons.conf.idx</th>\n      <th>euribor3m</th>\n      <th>nr.employed</th>\n    </tr>\n  </thead>\n  <tbody>\n    <tr>\n      <th>0</th>\n      <td>26</td>\n      <td>student</td>\n      <td>single</td>\n      <td>3</td>\n      <td>no</td>\n      <td>no</td>\n      <td>no</td>\n      <td>telephone</td>\n      <td>jun</td>\n      <td>mon</td>\n      <td>901</td>\n      <td>1</td>\n      <td>999</td>\n      <td>0</td>\n      <td>nonexistent</td>\n      <td>1.4</td>\n      <td>94.465</td>\n      <td>-41.8</td>\n      <td>4.961</td>\n      <td>5228.1</td>\n    </tr>\n    <tr>\n      <th>1</th>\n      <td>46</td>\n      <td>admin.</td>\n      <td>married</td>\n      <td>6</td>\n      <td>no</td>\n      <td>yes</td>\n      <td>no</td>\n      <td>cellular</td>\n      <td>aug</td>\n      <td>tue</td>\n      <td>208</td>\n      <td>2</td>\n      <td>999</td>\n      <td>0</td>\n      <td>nonexistent</td>\n      <td>1.4</td>\n      <td>93.444</td>\n      <td>-36.1</td>\n      <td>4.963</td>\n      <td>5228.1</td>\n    </tr>\n    <tr>\n      <th>2</th>\n      <td>49</td>\n      <td>blue-collar</td>\n      <td>married</td>\n      <td>0</td>\n      <td>unknown</td>\n      <td>yes</td>\n      <td>yes</td>\n      <td>telephone</td>\n      <td>jun</td>\n      <td>tue</td>\n      <td>131</td>\n      <td>5</td>\n      <td>999</td>\n      <td>0</td>\n      <td>nonexistent</td>\n      <td>1.4</td>\n      <td>94.465</td>\n      <td>-41.8</td>\n      <td>4.864</td>\n      <td>5228.1</td>\n    </tr>\n    <tr>\n      <th>3</th>\n      <td>31</td>\n      <td>technician</td>\n      <td>married</td>\n      <td>6</td>\n      <td>no</td>\n      <td>no</td>\n      <td>no</td>\n      <td>cellular</td>\n      <td>jul</td>\n      <td>tue</td>\n      <td>404</td>\n      <td>1</td>\n      <td>999</td>\n      <td>0</td>\n      <td>nonexistent</td>\n      <td>-2.9</td>\n      <td>92.469</td>\n      <td>-33.6</td>\n      <td>1.044</td>\n      <td>5076.2</td>\n    </tr>\n    <tr>\n      <th>4</th>\n      <td>42</td>\n      <td>housemaid</td>\n      <td>married</td>\n      <td>6</td>\n      <td>no</td>\n      <td>yes</td>\n      <td>no</td>\n      <td>telephone</td>\n      <td>nov</td>\n      <td>mon</td>\n      <td>85</td>\n      <td>1</td>\n      <td>999</td>\n      <td>0</td>\n      <td>nonexistent</td>\n      <td>-0.1</td>\n      <td>93.200</td>\n      <td>-42.0</td>\n      <td>4.191</td>\n      <td>5195.8</td>\n    </tr>\n  </tbody>\n</table>\n</div>",
            "text/plain": "   age          job  marital  education  default housing loan    contact  \\\n0   26      student   single          3       no      no   no  telephone   \n1   46       admin.  married          6       no     yes   no   cellular   \n2   49  blue-collar  married          0  unknown     yes  yes  telephone   \n3   31   technician  married          6       no      no   no   cellular   \n4   42    housemaid  married          6       no     yes   no  telephone   \n\n  month day_of_week  duration  campaign  pdays  previous     poutcome  \\\n0   jun         mon       901         1    999         0  nonexistent   \n1   aug         tue       208         2    999         0  nonexistent   \n2   jun         tue       131         5    999         0  nonexistent   \n3   jul         tue       404         1    999         0  nonexistent   \n4   nov         mon        85         1    999         0  nonexistent   \n\n   emp.var.rate  cons.price.idx  cons.conf.idx  euribor3m  nr.employed  \n0           1.4          94.465          -41.8      4.961       5228.1  \n1           1.4          93.444          -36.1      4.963       5228.1  \n2           1.4          94.465          -41.8      4.864       5228.1  \n3          -2.9          92.469          -33.6      1.044       5076.2  \n4          -0.1          93.200          -42.0      4.191       5195.8  "
          },
          "execution_count": 9,
          "metadata": {},
          "output_type": "execute_result"
        }
      ]
    },
    {
      "metadata": {
        "lang": "fr"
      },
      "cell_type": "markdown",
      "source": "Appliquons la transformation à d'autres colonnes de type `objet`."
    },
    {
      "metadata": {
        "_cell_guid": "f6b6056e-3823-4caf-a617-d99ab490512d",
        "_uuid": "8079ecf58d4fa138d92c21f46b001cb3ed050a0a",
        "trusted": false
      },
      "cell_type": "code",
      "source": "categorical_columns = df.columns[df.dtypes \n                                 == 'object'].union(['education'])\nfor column in categorical_columns:\n    df[column] = label_encoder.fit_transform(df[column])\ndf.head()",
      "execution_count": 10,
      "outputs": [
        {
          "data": {
            "text/html": "<div>\n<style scoped>\n    .dataframe tbody tr th:only-of-type {\n        vertical-align: middle;\n    }\n\n    .dataframe tbody tr th {\n        vertical-align: top;\n    }\n\n    .dataframe thead th {\n        text-align: right;\n    }\n</style>\n<table border=\"1\" class=\"dataframe\">\n  <thead>\n    <tr style=\"text-align: right;\">\n      <th></th>\n      <th>age</th>\n      <th>job</th>\n      <th>marital</th>\n      <th>education</th>\n      <th>default</th>\n      <th>housing</th>\n      <th>loan</th>\n      <th>contact</th>\n      <th>month</th>\n      <th>day_of_week</th>\n      <th>duration</th>\n      <th>campaign</th>\n      <th>pdays</th>\n      <th>previous</th>\n      <th>poutcome</th>\n      <th>emp.var.rate</th>\n      <th>cons.price.idx</th>\n      <th>cons.conf.idx</th>\n      <th>euribor3m</th>\n      <th>nr.employed</th>\n    </tr>\n  </thead>\n  <tbody>\n    <tr>\n      <th>0</th>\n      <td>26</td>\n      <td>8</td>\n      <td>2</td>\n      <td>3</td>\n      <td>0</td>\n      <td>0</td>\n      <td>0</td>\n      <td>1</td>\n      <td>4</td>\n      <td>1</td>\n      <td>901</td>\n      <td>1</td>\n      <td>999</td>\n      <td>0</td>\n      <td>1</td>\n      <td>1.4</td>\n      <td>94.465</td>\n      <td>-41.8</td>\n      <td>4.961</td>\n      <td>5228.1</td>\n    </tr>\n    <tr>\n      <th>1</th>\n      <td>46</td>\n      <td>0</td>\n      <td>1</td>\n      <td>6</td>\n      <td>0</td>\n      <td>2</td>\n      <td>0</td>\n      <td>0</td>\n      <td>1</td>\n      <td>3</td>\n      <td>208</td>\n      <td>2</td>\n      <td>999</td>\n      <td>0</td>\n      <td>1</td>\n      <td>1.4</td>\n      <td>93.444</td>\n      <td>-36.1</td>\n      <td>4.963</td>\n      <td>5228.1</td>\n    </tr>\n    <tr>\n      <th>2</th>\n      <td>49</td>\n      <td>1</td>\n      <td>1</td>\n      <td>0</td>\n      <td>1</td>\n      <td>2</td>\n      <td>2</td>\n      <td>1</td>\n      <td>4</td>\n      <td>3</td>\n      <td>131</td>\n      <td>5</td>\n      <td>999</td>\n      <td>0</td>\n      <td>1</td>\n      <td>1.4</td>\n      <td>94.465</td>\n      <td>-41.8</td>\n      <td>4.864</td>\n      <td>5228.1</td>\n    </tr>\n    <tr>\n      <th>3</th>\n      <td>31</td>\n      <td>9</td>\n      <td>1</td>\n      <td>6</td>\n      <td>0</td>\n      <td>0</td>\n      <td>0</td>\n      <td>0</td>\n      <td>3</td>\n      <td>3</td>\n      <td>404</td>\n      <td>1</td>\n      <td>999</td>\n      <td>0</td>\n      <td>1</td>\n      <td>-2.9</td>\n      <td>92.469</td>\n      <td>-33.6</td>\n      <td>1.044</td>\n      <td>5076.2</td>\n    </tr>\n    <tr>\n      <th>4</th>\n      <td>42</td>\n      <td>3</td>\n      <td>1</td>\n      <td>6</td>\n      <td>0</td>\n      <td>2</td>\n      <td>0</td>\n      <td>1</td>\n      <td>7</td>\n      <td>1</td>\n      <td>85</td>\n      <td>1</td>\n      <td>999</td>\n      <td>0</td>\n      <td>1</td>\n      <td>-0.1</td>\n      <td>93.200</td>\n      <td>-42.0</td>\n      <td>4.191</td>\n      <td>5195.8</td>\n    </tr>\n  </tbody>\n</table>\n</div>",
            "text/plain": "   age  job  marital  education  default  housing  loan  contact  month  \\\n0   26    8        2          3        0        0     0        1      4   \n1   46    0        1          6        0        2     0        0      1   \n2   49    1        1          0        1        2     2        1      4   \n3   31    9        1          6        0        0     0        0      3   \n4   42    3        1          6        0        2     0        1      7   \n\n   day_of_week  duration  campaign  pdays  previous  poutcome  emp.var.rate  \\\n0            1       901         1    999         0         1           1.4   \n1            3       208         2    999         0         1           1.4   \n2            3       131         5    999         0         1           1.4   \n3            3       404         1    999         0         1          -2.9   \n4            1        85         1    999         0         1          -0.1   \n\n   cons.price.idx  cons.conf.idx  euribor3m  nr.employed  \n0          94.465          -41.8      4.961       5228.1  \n1          93.444          -36.1      4.963       5228.1  \n2          94.465          -41.8      4.864       5228.1  \n3          92.469          -33.6      1.044       5076.2  \n4          93.200          -42.0      4.191       5195.8  "
          },
          "execution_count": 10,
          "metadata": {},
          "output_type": "execute_result"
        }
      ]
    },
    {
      "metadata": {
        "lang": "fr"
      },
      "cell_type": "markdown",
      "source": "Le principal problème avec cette approche est que nous avons maintenant introduit un ordre relatif là où il pourrait ne pas exister.\n\nPar exemple, nous avons implicitement introduit l'algèbre sur les valeurs de la caractéristique **job** où nous pouvons maintenant soustraire le job du client #2 du job du client# 1:"
    },
    {
      "metadata": {
        "_cell_guid": "9e85d727-a23c-4fda-859e-9cfa2491b044",
        "_uuid": "10efbea02831df6e1e8476a8813aedd227f9d4ae",
        "trusted": false
      },
      "cell_type": "code",
      "source": "df.loc[1].job - df.loc[2].job",
      "execution_count": 11,
      "outputs": [
        {
          "data": {
            "text/plain": "-1.0"
          },
          "execution_count": 11,
          "metadata": {},
          "output_type": "execute_result"
        }
      ]
    },
    {
      "metadata": {
        "lang": "fr"
      },
      "cell_type": "markdown",
      "source": "Cette opération a-t-elle un sens? Pas vraiment. Essayons de former la régression logisitique avec cette transformation de caractéristique."
    },
    {
      "metadata": {
        "_cell_guid": "7dede4d6-e787-4232-a1ac-01191a88ec88",
        "_uuid": "15c8fdb284d4e5166f3f56c4e9d8f1810186ff7c",
        "trusted": false
      },
      "cell_type": "code",
      "source": "def logistic_regression_accuracy_on(dataframe, labels):\n    features = dataframe.as_matrix()\n    train_features, test_features, train_labels, test_labels = \\\n        train_test_split(features, labels)\n\n    logit = LogisticRegression()\n    logit.fit(train_features, train_labels)\n    return classification_report(test_labels, \n                                 logit.predict(test_features))\n\nprint(logistic_regression_accuracy_on(df[categorical_columns], \n                                      labels))",
      "execution_count": 12,
      "outputs": [
        {
          "name": "stdout",
          "output_type": "stream",
          "text": "              precision    recall  f1-score   support\n\n           0       0.89      1.00      0.94      6133\n           1       0.00      0.00      0.00       766\n\n   micro avg       0.89      0.89      0.89      6899\n   macro avg       0.44      0.50      0.47      6899\nweighted avg       0.79      0.89      0.84      6899\n\n"
        }
      ]
    },
    {
      "metadata": {
        "lang": "fr"
      },
      "cell_type": "markdown",
      "source": "Nous pouvons voir que la régression logistique ne prédit jamais la classe 1. Afin d'utiliser des modèles linéaires avec des caractéristiques catégoriques, nous utiliserons une approche différente: One-Hot Encoding.\n\n### 2.2. Encodage One-Hot\n\nSupposons qu'une caractéristique puisse avoir l'une des 10 valeurs uniques. L'encodage One-Hot crée 10 nouvelles caractéristiques correspondant à ces valeurs uniques, toutes *sauf un* sont des zéros."
    },
    {
      "metadata": {
        "_cell_guid": "df17447f-6ff8-4342-b755-c856fb1c7bd6",
        "_uuid": "6ca824f36f66c8e6889688e8f64c2ca6ec7605df",
        "trusted": false
      },
      "cell_type": "code",
      "source": "one_hot_example = pd.DataFrame([{i: 0 for i in range(10)}])\none_hot_example.loc[0, 6] = 1\none_hot_example",
      "execution_count": 13,
      "outputs": [
        {
          "data": {
            "text/html": "<div>\n<style scoped>\n    .dataframe tbody tr th:only-of-type {\n        vertical-align: middle;\n    }\n\n    .dataframe tbody tr th {\n        vertical-align: top;\n    }\n\n    .dataframe thead th {\n        text-align: right;\n    }\n</style>\n<table border=\"1\" class=\"dataframe\">\n  <thead>\n    <tr style=\"text-align: right;\">\n      <th></th>\n      <th>0</th>\n      <th>1</th>\n      <th>2</th>\n      <th>3</th>\n      <th>4</th>\n      <th>5</th>\n      <th>6</th>\n      <th>7</th>\n      <th>8</th>\n      <th>9</th>\n    </tr>\n  </thead>\n  <tbody>\n    <tr>\n      <th>0</th>\n      <td>0</td>\n      <td>0</td>\n      <td>0</td>\n      <td>0</td>\n      <td>0</td>\n      <td>0</td>\n      <td>1</td>\n      <td>0</td>\n      <td>0</td>\n      <td>0</td>\n    </tr>\n  </tbody>\n</table>\n</div>",
            "text/plain": "   0  1  2  3  4  5  6  7  8  9\n0  0  0  0  0  0  0  1  0  0  0"
          },
          "execution_count": 13,
          "metadata": {},
          "output_type": "execute_result"
        }
      ]
    },
    {
      "metadata": {
        "lang": "fr"
      },
      "cell_type": "markdown",
      "source": "Cette idée est implémentée dans la classe `OneHotEncoder` de` sklearn.preprocessing`. Par défaut, OneHotEncoder transforme les données en une matrice creuse (sparse matrix) pour économiser de l'espace mémoire car la plupart des valeurs sont des zéros et parce que nous ne voulons pas utiliser plus de RAM. Cependant, dans cet exemple particulier, nous ne rencontrons pas de tels problèmes, nous allons donc utiliser une représentation matricielle \"dense\"."
    },
    {
      "metadata": {
        "_cell_guid": "29d1f40e-cfb4-4ee0-b9ee-8c779b7c803b",
        "_uuid": "fa7ad1f51154182f467a5df5dd7d43ec111132b8",
        "trusted": false
      },
      "cell_type": "code",
      "source": "onehot_encoder = OneHotEncoder(sparse=False)",
      "execution_count": 14,
      "outputs": []
    },
    {
      "metadata": {
        "_cell_guid": "0d70a254-f732-40c9-b738-67ca6b8d2d24",
        "_uuid": "ecfb22058b460d751779df0f9492928a317914de",
        "trusted": false
      },
      "cell_type": "code",
      "source": "encoded_categorical_columns = \\\npd.DataFrame(onehot_encoder.fit_transform(\n    df[categorical_columns]))\nencoded_categorical_columns.head()",
      "execution_count": 15,
      "outputs": [
        {
          "data": {
            "text/html": "<div>\n<style scoped>\n    .dataframe tbody tr th:only-of-type {\n        vertical-align: middle;\n    }\n\n    .dataframe tbody tr th {\n        vertical-align: top;\n    }\n\n    .dataframe thead th {\n        text-align: right;\n    }\n</style>\n<table border=\"1\" class=\"dataframe\">\n  <thead>\n    <tr style=\"text-align: right;\">\n      <th></th>\n      <th>0</th>\n      <th>1</th>\n      <th>2</th>\n      <th>3</th>\n      <th>4</th>\n      <th>5</th>\n      <th>6</th>\n      <th>7</th>\n      <th>8</th>\n      <th>9</th>\n      <th>...</th>\n      <th>43</th>\n      <th>44</th>\n      <th>45</th>\n      <th>46</th>\n      <th>47</th>\n      <th>48</th>\n      <th>49</th>\n      <th>50</th>\n      <th>51</th>\n      <th>52</th>\n    </tr>\n  </thead>\n  <tbody>\n    <tr>\n      <th>0</th>\n      <td>0.0</td>\n      <td>1.0</td>\n      <td>0.0</td>\n      <td>1.0</td>\n      <td>0.0</td>\n      <td>0.0</td>\n      <td>0.0</td>\n      <td>1.0</td>\n      <td>0.0</td>\n      <td>0.0</td>\n      <td>...</td>\n      <td>0.0</td>\n      <td>1.0</td>\n      <td>0.0</td>\n      <td>0.0</td>\n      <td>0.0</td>\n      <td>0.0</td>\n      <td>0.0</td>\n      <td>0.0</td>\n      <td>1.0</td>\n      <td>0.0</td>\n    </tr>\n    <tr>\n      <th>1</th>\n      <td>1.0</td>\n      <td>0.0</td>\n      <td>0.0</td>\n      <td>0.0</td>\n      <td>0.0</td>\n      <td>1.0</td>\n      <td>0.0</td>\n      <td>1.0</td>\n      <td>0.0</td>\n      <td>0.0</td>\n      <td>...</td>\n      <td>0.0</td>\n      <td>0.0</td>\n      <td>0.0</td>\n      <td>0.0</td>\n      <td>0.0</td>\n      <td>0.0</td>\n      <td>0.0</td>\n      <td>0.0</td>\n      <td>1.0</td>\n      <td>0.0</td>\n    </tr>\n    <tr>\n      <th>2</th>\n      <td>0.0</td>\n      <td>1.0</td>\n      <td>0.0</td>\n      <td>0.0</td>\n      <td>0.0</td>\n      <td>1.0</td>\n      <td>0.0</td>\n      <td>0.0</td>\n      <td>1.0</td>\n      <td>0.0</td>\n      <td>...</td>\n      <td>0.0</td>\n      <td>1.0</td>\n      <td>0.0</td>\n      <td>0.0</td>\n      <td>0.0</td>\n      <td>0.0</td>\n      <td>0.0</td>\n      <td>0.0</td>\n      <td>1.0</td>\n      <td>0.0</td>\n    </tr>\n    <tr>\n      <th>3</th>\n      <td>1.0</td>\n      <td>0.0</td>\n      <td>0.0</td>\n      <td>0.0</td>\n      <td>0.0</td>\n      <td>1.0</td>\n      <td>0.0</td>\n      <td>1.0</td>\n      <td>0.0</td>\n      <td>0.0</td>\n      <td>...</td>\n      <td>1.0</td>\n      <td>0.0</td>\n      <td>0.0</td>\n      <td>0.0</td>\n      <td>0.0</td>\n      <td>0.0</td>\n      <td>0.0</td>\n      <td>0.0</td>\n      <td>1.0</td>\n      <td>0.0</td>\n    </tr>\n    <tr>\n      <th>4</th>\n      <td>0.0</td>\n      <td>1.0</td>\n      <td>0.0</td>\n      <td>1.0</td>\n      <td>0.0</td>\n      <td>0.0</td>\n      <td>0.0</td>\n      <td>1.0</td>\n      <td>0.0</td>\n      <td>0.0</td>\n      <td>...</td>\n      <td>0.0</td>\n      <td>0.0</td>\n      <td>0.0</td>\n      <td>0.0</td>\n      <td>1.0</td>\n      <td>0.0</td>\n      <td>0.0</td>\n      <td>0.0</td>\n      <td>1.0</td>\n      <td>0.0</td>\n    </tr>\n  </tbody>\n</table>\n<p>5 rows × 53 columns</p>\n</div>",
            "text/plain": "    0    1    2    3    4    5    6    7    8    9  ...    43   44   45   46  \\\n0  0.0  1.0  0.0  1.0  0.0  0.0  0.0  1.0  0.0  0.0 ...   0.0  1.0  0.0  0.0   \n1  1.0  0.0  0.0  0.0  0.0  1.0  0.0  1.0  0.0  0.0 ...   0.0  0.0  0.0  0.0   \n2  0.0  1.0  0.0  0.0  0.0  1.0  0.0  0.0  1.0  0.0 ...   0.0  1.0  0.0  0.0   \n3  1.0  0.0  0.0  0.0  0.0  1.0  0.0  1.0  0.0  0.0 ...   1.0  0.0  0.0  0.0   \n4  0.0  1.0  0.0  1.0  0.0  0.0  0.0  1.0  0.0  0.0 ...   0.0  0.0  0.0  0.0   \n\n    47   48   49   50   51   52  \n0  0.0  0.0  0.0  0.0  1.0  0.0  \n1  0.0  0.0  0.0  0.0  1.0  0.0  \n2  0.0  0.0  0.0  0.0  1.0  0.0  \n3  0.0  0.0  0.0  0.0  1.0  0.0  \n4  1.0  0.0  0.0  0.0  1.0  0.0  \n\n[5 rows x 53 columns]"
          },
          "execution_count": 15,
          "metadata": {},
          "output_type": "execute_result"
        }
      ]
    },
    {
      "metadata": {
        "lang": "fr"
      },
      "cell_type": "markdown",
      "source": "Nous avons 53 colonnes qui correspondent au nombre de valeurs uniques des caractéristiques catégorielles dans notre ensemble de données. Lorsqu'elles sont transformées avec l'encodage One-Hot, ces données peuvent être utilisées avec des modèles linéaires:"
    },
    {
      "metadata": {
        "_cell_guid": "84c611df-8c2e-45dc-a108-aab6bf39a530",
        "_uuid": "cebd716350bc29dabb07f797db16e693fa92a76a",
        "trusted": false
      },
      "cell_type": "code",
      "source": "print(logistic_regression_accuracy_on(encoded_categorical_columns, labels))",
      "execution_count": 16,
      "outputs": [
        {
          "name": "stdout",
          "output_type": "stream",
          "text": "              precision    recall  f1-score   support\n\n           0       0.91      0.99      0.95      6140\n           1       0.64      0.16      0.26       759\n\n   micro avg       0.90      0.90      0.90      6899\n   macro avg       0.77      0.57      0.60      6899\nweighted avg       0.88      0.90      0.87      6899\n\n"
        }
      ]
    },
    {
      "metadata": {
        "lang": "fr"
      },
      "cell_type": "markdown",
      "source": "### 2.3. Astuce de hachage\nLes données réelles peuvent être volatiles, ce qui signifie que nous ne pouvons pas garantir que de nouvelles valeurs de caractéristiques catégorielles ne se produiront pas. Ce problème empêche l'utilisation d'un modèle entraîné sur de nouvelles données. En outre, «LabelEncoder» nécessite une analyse préliminaire de l'ensemble de données et le stockage des mappages construits en mémoire, ce qui rend difficile le travail avec de grands ensembles de données.\n\nIl existe une approche simple de la vectorisation des données catégorielles basée sur le hachage et est connue sous le nom, sans surprise, de l'astuce de hachage.\n\nLes fonctions de hachage peuvent nous aider à trouver des codes uniques pour différentes valeurs de caractéristiques, par exemple:"
    },
    {
      "metadata": {
        "_cell_guid": "d9eb2e54-18e7-4056-8f28-f22a044596d8",
        "_uuid": "01064911e1e0af0b3829b0e0be2a965aa3e8eb3e",
        "trusted": false
      },
      "cell_type": "code",
      "source": "for s in ('university.degree', 'high.school', 'illiterate'):\n    print(s, '->', hash(s))",
      "execution_count": 17,
      "outputs": [
        {
          "name": "stdout",
          "output_type": "stream",
          "text": "university.degree -> -4819547379497397962\nhigh.school -> 6407817176082389474\nilliterate -> -426073671251698964\n"
        }
      ]
    },
    {
      "metadata": {
        "lang": "fr"
      },
      "cell_type": "markdown",
      "source": "Nous n'utiliserons pas de valeurs négatives ou de valeurs de grande amplitude, nous limitons donc la plage de valeurs pour la fonction de hachage:"
    },
    {
      "metadata": {
        "_cell_guid": "943fc564-80f0-4350-980a-cce6c6a2e7cd",
        "_uuid": "b92f7eabc498b8339abed0f8fd400bba5750209a",
        "trusted": false
      },
      "cell_type": "code",
      "source": "hash_space = 25\nfor s in ('university.degree', 'high.school', 'illiterate'):\n    print(s, '->', hash(s) % hash_space)",
      "execution_count": 18,
      "outputs": [
        {
          "name": "stdout",
          "output_type": "stream",
          "text": "university.degree -> 13\nhigh.school -> 24\nilliterate -> 11\n"
        }
      ]
    },
    {
      "metadata": {
        "lang": "fr"
      },
      "cell_type": "markdown",
      "source": "Imaginons que notre ensemble de données contienne un étudiant célibataire (c'est-à-dire non marié), qui a reçu un appel lundi. Ses vecteurs de caractéristiques seront créés de la même manière que dans le cas de l'encodage One-Hot, mais dans l'espace avec une plage fixe pour toutes les caractéristiques:"
    },
    {
      "metadata": {
        "_cell_guid": "c94253b2-3981-4bbd-817f-96c3f660d464",
        "_uuid": "af62a2ed3770a537bc3168d0a06c6d20b737f887",
        "trusted": false
      },
      "cell_type": "code",
      "source": "hashing_example = pd.DataFrame([{i: 0.0 for i in range(hash_space)}])\nfor s in ('job=student', 'marital=single', 'day_of_week=mon'):\n    print(s, '->', hash(s) % hash_space)\n    hashing_example.loc[0, hash(s) % hash_space] = 1\nhashing_example",
      "execution_count": 19,
      "outputs": [
        {
          "name": "stdout",
          "output_type": "stream",
          "text": "job=student -> 9\nmarital=single -> 17\nday_of_week=mon -> 15\n"
        },
        {
          "data": {
            "text/html": "<div>\n<style scoped>\n    .dataframe tbody tr th:only-of-type {\n        vertical-align: middle;\n    }\n\n    .dataframe tbody tr th {\n        vertical-align: top;\n    }\n\n    .dataframe thead th {\n        text-align: right;\n    }\n</style>\n<table border=\"1\" class=\"dataframe\">\n  <thead>\n    <tr style=\"text-align: right;\">\n      <th></th>\n      <th>0</th>\n      <th>1</th>\n      <th>2</th>\n      <th>3</th>\n      <th>4</th>\n      <th>5</th>\n      <th>6</th>\n      <th>7</th>\n      <th>8</th>\n      <th>9</th>\n      <th>...</th>\n      <th>15</th>\n      <th>16</th>\n      <th>17</th>\n      <th>18</th>\n      <th>19</th>\n      <th>20</th>\n      <th>21</th>\n      <th>22</th>\n      <th>23</th>\n      <th>24</th>\n    </tr>\n  </thead>\n  <tbody>\n    <tr>\n      <th>0</th>\n      <td>0.0</td>\n      <td>0.0</td>\n      <td>0.0</td>\n      <td>0.0</td>\n      <td>0.0</td>\n      <td>0.0</td>\n      <td>0.0</td>\n      <td>0.0</td>\n      <td>0.0</td>\n      <td>1.0</td>\n      <td>...</td>\n      <td>1.0</td>\n      <td>0.0</td>\n      <td>1.0</td>\n      <td>0.0</td>\n      <td>0.0</td>\n      <td>0.0</td>\n      <td>0.0</td>\n      <td>0.0</td>\n      <td>0.0</td>\n      <td>0.0</td>\n    </tr>\n  </tbody>\n</table>\n<p>1 rows × 25 columns</p>\n</div>",
            "text/plain": "    0    1    2    3    4    5    6    7    8    9  ...    15   16   17   18  \\\n0  0.0  0.0  0.0  0.0  0.0  0.0  0.0  0.0  0.0  1.0 ...   1.0  0.0  1.0  0.0   \n\n    19   20   21   22   23   24  \n0  0.0  0.0  0.0  0.0  0.0  0.0  \n\n[1 rows x 25 columns]"
          },
          "execution_count": 19,
          "metadata": {},
          "output_type": "execute_result"
        }
      ]
    },
    {
      "metadata": {
        "lang": "fr"
      },
      "cell_type": "markdown",
      "source": "Nous tenons à souligner que nous hachons non seulement les valeurs de caractéristique, mais également des paires de **nom de caractéristique + valeur de caractéristique**. Il est important de le faire afin que nous puissions distinguer les mêmes valeurs de différentes caractéristiques."
    },
    {
      "metadata": {
        "_cell_guid": "48540748-405a-413d-ac0c-5aa0422b9087",
        "_uuid": "e025f8486b3091090e93c27c082145b5f3e11967",
        "trusted": false
      },
      "cell_type": "code",
      "source": "assert hash('no') == hash('no')\nassert hash('housing=no') != hash('loan=no')",
      "execution_count": 20,
      "outputs": []
    },
    {
      "metadata": {
        "lang": "fr"
      },
      "cell_type": "markdown",
      "source": "Est-il possible d'avoir une collision lors de l'utilisation de codes de hachage? Bien sûr, c'est possible, mais c'est un cas rare avec des espaces de hachage suffisamment grands. Même en cas de collision, les métriques de régression ou de classification n'en souffriront pas beaucoup. Dans ce cas, les collisions de hachage fonctionnent comme une forme de régularisation.\n\n\n<img src=\"https://habrastorage.org/webt/4o/wx/59/4owx59vdvwc9mzrf81t2fa2rqrc.jpeg\">\n\nVous dites peut-être \"WTF?\"; le hachage semble contre-intuitif. C'est vrai, mais ces heuristiques sont parfois, en fait, la seule approche plausible pour travailler avec des données catégorielles (que pouvez-vous faire d'autre si vous avez 30 millions de caractéristiques?). De plus, cette technique s'est avérée efficace. Au fur et à mesure que vous travaillez avec des données, vous pouvez le constater par vous-même.\n\nUne bonne analyse des collisions de hachage, de leur dépendance à l'espace des caractéristiques et des dimensions de l'espace de hachage et affectant les performances de classification / régression est effectuée dans [cet article](https://booking.ai/dont-be-tricked-by-the-hashing- trick-192a6aae3087) par Booking.com."
    },
    {
      "metadata": {
        "lang": "fr"
      },
      "cell_type": "markdown",
      "source": "## 3. Vowpal Wabbit"
    },
    {
      "metadata": {
        "lang": "fr"
      },
      "cell_type": "markdown",
      "source": "[Vowpal Wabbit](https://github.com/JohnLangford/vowpal_wabbit)(VW) est l'une des bibliothèques d'apprentissage automatique les plus répandues dans l'industrie. Il se distingue par sa vitesse d'entraînement et sa prise en charge de nombreux modes d'entraînement, en particulier pour l'apprentissage en ligne avec des données volumineuses et de haute dimension. C'est l'un des principaux mérites de la bibliothèque. De plus, avec l'astuce de hachage implémentée, Vowpal Wabbit est un choix parfait pour travailler avec des données textuelles.\n\nShell est l'interface principale de VW."
    },
    {
      "metadata": {
        "_cell_guid": "24fd028f-416e-43ff-9530-5c8f47bde176",
        "_uuid": "4cc17ec6551c7e7dcf224a3b03794720d90cb966",
        "trusted": false
      },
      "cell_type": "code",
      "source": "!vw --help",
      "execution_count": 21,
      "outputs": [
        {
          "name": "stdout",
          "output_type": "stream",
          "text": "Num weight bits = 18\r\nlearning rate = 0.5\r\ninitial_t = 0\r\npower_t = 0.5\r\nusing no cache\r\nReading datafile = \r\nnum sources = 1\r\n\r\nVW options:\r\n  --ring_size arg                       size of example ring\r\n  --onethread                           Disable parse thread\r\n\r\nUpdate options:\r\n  -l [ --learning_rate ] arg            Set learning rate\r\n  --power_t arg                         t power value\r\n  --decay_learning_rate arg             Set Decay factor for learning_rate \r\n                                        between passes\r\n  --initial_t arg                       initial t value\r\n  --feature_mask arg                    Use existing regressor to determine \r\n                                        which parameters may be updated.  If no\r\n                                        initial_regressor given, also used for \r\n                                        initial weights.\r\n\r\nWeight options:\r\n  -i [ --initial_regressor ] arg        Initial regressor(s)\r\n  --initial_weight arg                  Set all weights to an initial value of \r\n                                        arg.\r\n  --random_weights arg                  make initial weights random\r\n  --normal_weights arg                  make initial weights normal\r\n  --truncated_normal_weights arg        make initial weights truncated normal\r\n  --sparse_weights                      Use a sparse datastructure for weights\r\n  --input_feature_regularizer arg       Per feature regularization input file\r\n\r\nParallelization options:\r\n  --span_server arg                     Location of server for setting up \r\n                                        spanning tree\r\n  --threads                             Enable multi-threading\r\n  --unique_id arg (=0)                  unique id used for cluster parallel \r\n                                        jobs\r\n  --total arg (=1)                      total number of nodes used in cluster \r\n                                        parallel job\r\n  --node arg (=0)                       node number in cluster parallel job\r\n\r\nDiagnostic options:\r\n  --version                             Version information\r\n  -a [ --audit ]                        print weights of features\r\n  -P [ --progress ] arg                 Progress update frequency. int: \r\n                                        additive, float: multiplicative\r\n  --quiet                               Don't output disgnostics and progress \r\n                                        updates\r\n  -h [ --help ]                         Look here: http://hunch.net/~vw/ and \r\n                                        click on Tutorial.\r\n\r\nRandom Seed option:\r\n  --random_seed arg                     seed random number generator\r\n\r\nFeature options:\r\n  --hash arg                            how to hash the features. Available \r\n                                        options: strings, all\r\n  --hash_seed arg (=0)                  seed for hash function\r\n  --ignore arg                          ignore namespaces beginning with \r\n                                        character <arg>\r\n  --ignore_linear arg                   ignore namespaces beginning with \r\n                                        character <arg> for linear terms only\r\n  --keep arg                            keep namespaces beginning with \r\n                                        character <arg>\r\n  --redefine arg                        redefine namespaces beginning with \r\n                                        characters of string S as namespace N. \r\n                                        <arg> shall be in form 'N:=S' where := \r\n                                        is operator. Empty N or S are treated \r\n                                        as default namespace. Use ':' as a \r\n                                        wildcard in S.\r\n  -b [ --bit_precision ] arg            number of bits in the feature table\r\n  --noconstant                          Don't add a constant feature\r\n  -C [ --constant ] arg                 Set initial value of constant\r\n  --ngram arg                           Generate N grams. To generate N grams \r\n                                        for a single namespace 'foo', arg \r\n                                        should be fN.\r\n  --skips arg                           Generate skips in N grams. This in \r\n                                        conjunction with the ngram tag can be \r\n                                        used to generate generalized \r\n                                        n-skip-k-gram. To generate n-skips for \r\n                                        a single namespace 'foo', arg should be\r\n                                        fN.\r\n  --feature_limit arg                   limit to N features. To apply to a \r\n                                        single namespace 'foo', arg should be \r\n                                        fN\r\n  --affix arg                           generate prefixes/suffixes of features;\r\n                                        argument '+2a,-3b,+1' means generate \r\n                                        2-char prefixes for namespace a, 3-char\r\n                                        suffixes for b and 1 char prefixes for \r\n                                        default namespace\r\n  --spelling arg                        compute spelling features for a give \r\n                                        namespace (use '_' for default \r\n                                        namespace)\r\n  --dictionary arg                      read a dictionary for additional \r\n                                        features (arg either 'x:file' or just \r\n                                        'file')\r\n  --dictionary_path arg                 look in this directory for \r\n                                        dictionaries; defaults to current \r\n                                        directory or env{PATH}\r\n  --interactions arg                    Create feature interactions of any \r\n                                        level between namespaces.\r\n  --permutations                        Use permutations instead of \r\n                                        combinations for feature interactions \r\n                                        of same namespace.\r\n  --leave_duplicate_interactions        Don't remove interactions with \r\n                                        duplicate combinations of namespaces. \r\n                                        For ex. this is a duplicate: '-q ab -q \r\n                                        ba' and a lot more in '-q ::'.\r\n  -q [ --quadratic ] arg                Create and use quadratic features\r\n  --q: arg                              : corresponds to a wildcard for all \r\n                                        printable characters\r\n  --cubic arg                           Create and use cubic features\r\n\r\nExample options:\r\n  -t [ --testonly ]                     Ignore label information and just test\r\n  --holdout_off                         no holdout data in multiple passes\r\n  --holdout_period arg (=10)            holdout period for test only\r\n  --holdout_after arg                   holdout after n training examples, \r\n                                        default off (disables holdout_period)\r\n  --early_terminate arg (=3)            Specify the number of passes tolerated \r\n                                        when holdout loss doesn't decrease \r\n                                        before early termination\r\n  --passes arg                          Number of Training Passes\r\n  --initial_pass_length arg             initial number of examples per pass\r\n  --examples arg                        number of examples to parse\r\n  --min_prediction arg                  Smallest prediction to output\r\n  --max_prediction arg                  Largest prediction to output\r\n  --sort_features                       turn this on to disregard order in \r\n                                        which features have been defined. This \r\n                                        will lead to smaller cache sizes\r\n  --loss_function arg (=squared)        Specify the loss function to be used, \r\n                                        uses squared by default. Currently \r\n                                        available ones are squared, classic, \r\n                                        hinge, logistic, quantile and poisson.\r\n  --quantile_tau arg (=0.5)             Parameter \\tau associated with Quantile\r\n                                        loss. Defaults to 0.5\r\n  --l1 arg                              l_1 lambda\r\n  --l2 arg                              l_2 lambda\r\n  --no_bias_regularization arg          no bias in regularization\r\n  --named_labels arg                    use names for labels (multiclass, etc.)\r\n                                        rather than integers, argument \r\n                                        specified all possible labels, \r\n                                        comma-sep, eg \"--named_labels \r\n                                        Noun,Verb,Adj,Punc\"\r\n\r\nOutput model:\r\n  -f [ --final_regressor ] arg          Final regressor\r\n  --readable_model arg                  Output human-readable final regressor \r\n                                        with numeric features\r\n  --invert_hash arg                     Output human-readable final regressor \r\n                                        with feature names.  Computationally \r\n                                        expensive.\r\n  --save_resume                         save extra state so learning can be \r\n                                        resumed later with new data\r\n  --preserve_performance_counters       reset performance counters when \r\n                                        warmstarting\r\n  --save_per_pass                       Save the model after every pass over \r\n                                        data\r\n  --output_feature_regularizer_binary arg\r\n                                        Per feature regularization output file\r\n  --output_feature_regularizer_text arg Per feature regularization output file,\r\n                                        in text\r\n  --id arg                              User supplied ID embedded into the \r\n                                        final regressor\r\n\r\nOutput options:\r\n  -p [ --predictions ] arg              File to output predictions to\r\n  -r [ --raw_predictions ] arg          File to output unnormalized predictions\r\n                                        to\r\n\r\nAudit Regressor:\r\n  --audit_regressor arg                 stores feature names and their \r\n                                        regressor values. Same dataset must be \r\n                                        used for both regressor training and \r\n                                        this mode.\r\n\r\n\r\nSearch options:\r\n  --search arg                          Use learning to search, \r\n                                        argument=maximum action id or 0 for LDF\r\n  --search_task arg                     the search task (use \"--search_task \r\n                                        list\" to get a list of available tasks)\r\n\r\n  --search_metatask arg                 the search metatask (use \r\n                                        \"--search_metatask list\" to get a list \r\n                                        of available metatasks)\r\n  --search_interpolation arg            at what level should interpolation \r\n                                        happen? [*data|policy]\r\n  --search_rollout arg                  how should rollouts be executed?       \r\n                                            [policy|oracle|*mix_per_state|mix_p\r\n                                        er_roll|none]\r\n  --search_rollin arg                   how should past trajectories be \r\n                                        generated? [policy|oracle|*mix_per_stat\r\n                                        e|mix_per_roll]\r\n  --search_passes_per_policy arg (=1)   number of passes per policy (only valid\r\n                                        for search_interpolation=policy)\r\n  --search_beta arg (=0.5)              interpolation rate for policies (only \r\n                                        valid for search_interpolation=policy)\r\n  --search_alpha arg (=1.00000001e-10)  annealed beta = 1-(1-alpha)^t (only \r\n                                        valid for search_interpolation=data)\r\n  --search_total_nb_policies arg        if we are going to train the policies \r\n                                        through multiple separate calls to vw, \r\n                                        we need to specify this parameter and \r\n                                        tell vw how many policies are \r\n                                        eventually going to be trained\r\n  --search_trained_nb_policies arg      the number of trained policies in a \r\n                                        file\r\n  --search_allowed_transitions arg      read file of allowed transitions [def: \r\n                                        all transitions are allowed]\r\n  --search_subsample_time arg           instead of training at all timesteps, \r\n                                        use a subset. if value in (0,1), train \r\n                                        on a random v%. if v>=1, train on \r\n                                        precisely v steps per example, if \r\n                                        v<=-1, use active learning\r\n  --search_neighbor_features arg        copy features from neighboring lines. \r\n                                        argument looks like: '-1:a,+2' meaning \r\n                                        copy previous line namespace a and next\r\n                                        next line from namespace _unnamed_, \r\n                                        where ',' separates them\r\n  --search_rollout_num_steps arg        how many calls of \"loss\" before we stop\r\n                                        really predicting on rollouts and \r\n                                        switch to oracle (default means \r\n                                        \"infinite\")\r\n  --search_history_length arg (=1)      some tasks allow you to specify how \r\n                                        much history their depend on; specify \r\n                                        that here\r\n  --search_no_caching                   turn off the built-in caching ability \r\n                                        (makes things slower, but technically \r\n                                        more safe)\r\n  --search_xv                           train two separate policies, \r\n                                        alternating prediction/learning\r\n  --search_perturb_oracle arg (=0)      perturb the oracle on rollin with this \r\n                                        probability\r\n  --search_linear_ordering              insist on generating examples in linear\r\n                                        order (def: hoopla permutation)\r\n  --search_active_verify arg            verify that active learning is doing \r\n                                        the right thing (arg = multiplier, \r\n                                        should be = cost_range * range_c)\r\n  --search_save_every_k_runs arg        save model every k runs\r\n\r\nExperience Replay:\r\n  --replay_c arg                        use experience replay at a specified \r\n                                        level [b=classification/regression, \r\n                                        m=multiclass, c=cost sensitive] with \r\n                                        specified buffer size\r\n\r\n  --replay_c_count arg (=1)             how many times (in expectation) should \r\n                                        each example be played (default: 1 = \r\n                                        permuting)\r\n\r\nExplore evaluation:\r\n  --explore_eval                        Evaluate explore_eval adf policies\r\n\r\n  --multiplier arg                      Multiplier used to make all rejection \r\n                                        sample probabilities <= 1\r\n\r\nMake Multiclass into Contextual Bandit:\r\n  --cbify arg                           Convert multiclass on <k> classes into \r\n                                        a contextual bandit problem\r\n\r\n  --cbify_cs                            consume cost-sensitive classification \r\n                                        examples instead of multiclass\r\n  --loss0 arg (=0)                      loss for correct label\r\n  --loss1 arg (=1)                      loss for incorrect label\r\n\r\nContextual Bandit Exploration with Action Dependent Features:\r\n  --cb_explore_adf                      Online explore-exploit for a contextual\r\n                                        bandit problem with multiline action \r\n                                        dependent features\r\n\r\n  --first arg                           tau-first exploration\r\n  --epsilon arg                         epsilon-greedy exploration\r\n  --bag arg                             bagging-based exploration\r\n  --cover arg                           Online cover based exploration\r\n  --psi arg (=1)                        disagreement parameter for cover\r\n  --nounif                              do not explore uniformly on \r\n                                        zero-probability actions in cover\r\n  --softmax                             softmax exploration\r\n  --regcb                               RegCB-elim exploration\r\n  --regcbopt                            RegCB optimistic exploration\r\n  --mellowness arg (=0.100000001)       RegCB mellowness parameter c_0. Default\r\n                                        0.1\r\n  --greedify                            always update first policy once in \r\n                                        bagging\r\n  --cb_min_cost arg (=0)                lower bound on cost\r\n  --cb_max_cost arg (=1)                upper bound on cost\r\n  --first_only                          Only explore the first action in a \r\n                                        tie-breaking event\r\n  --lambda arg (=-1)                    parameter for softmax\r\n\r\nContextual Bandit Exploration:\r\n  --cb_explore arg                      Online explore-exploit for a <k> action\r\n                                        contextual bandit problem\r\n\r\n  --first arg                           tau-first exploration\r\n  --epsilon arg (=0.0500000007)         epsilon-greedy exploration\r\n  --bag arg                             bagging-based exploration\r\n  --cover arg                           Online cover based exploration\r\n  --psi arg (=1)                        disagreement parameter for cover\r\n\r\nMultiworld Testing Options:\r\n  --multiworld_test arg                 Evaluate features as a policies\r\n\r\n  --learn arg                           Do Contextual Bandit learning on <n> \r\n                                        classes.\r\n  --exclude_eval                        Discard mwt policy features before \r\n                                        learning\r\n\r\nContextual Bandit with Action Dependent Features:\r\n  --cb_adf                              Do Contextual Bandit learning with \r\n                                        multiline action dependent features.\r\n\r\n  --rank_all                            Return actions sorted by score order\r\n  --no_predict                          Do not do a prediction when training\r\n  --cb_type arg (=ips)                  contextual bandit method to use in \r\n                                        {ips,dm,dr, mtr}\r\n\r\nContextual Bandit Options:\r\n  --cb arg                              Use contextual bandit learning with <k>\r\n                                        costs\r\n\r\n  --cb_type arg (=dr)                   contextual bandit method to use in \r\n                                        {ips,dm,dr}\r\n  --eval                                Evaluate a policy rather than \r\n                                        optimizing.\r\n\r\nCost Sensitive One Against All with Label Dependent Features:\r\n  --csoaa_ldf arg                       Use one-against-all multiclass learning\r\n                                        with label dependent features.\r\n\r\n  --ldf_override arg                    Override singleline or multiline from \r\n                                        csoaa_ldf or wap_ldf, eg if stored in \r\n                                        file\r\n  --csoaa_rank                          Return actions sorted by score order\r\n  --probabilities                       predict probabilites of all classes\r\n\r\n  --wap_ldf arg                         Use weighted all-pairs multiclass \r\n                                        learning with label dependent features.\r\n                                          Specify singleline or multiline.\r\n\r\n\r\nInteract via elementwise multiplication:\r\n  --interact arg                        Put weights on feature products from \r\n                                        namespaces <n1> and <n2>\r\n\r\n\r\nCost Sensitive One Against All:\r\n  --csoaa arg                           One-against-all multiclass with <k> \r\n                                        costs\r\n\r\n\r\nCost-sensitive Active Learning:\r\n  --cs_active arg                       Cost-sensitive active learning with <k>\r\n                                        costs\r\n\r\n  --simulation                          cost-sensitive active learning \r\n                                        simulation mode\r\n  --baseline                            cost-sensitive active learning baseline\r\n  --domination                          cost-sensitive active learning use \r\n                                        domination. Default 1\r\n  --mellowness arg (=0.100000001)       mellowness parameter c_0. Default 0.1.\r\n  --range_c arg (=0.5)                  parameter controlling the threshold for\r\n                                        per-label cost uncertainty. Default \r\n                                        0.5.\r\n  --max_labels arg (=18446744073709551615)\r\n                                        maximum number of label queries.\r\n  --min_labels arg (=18446744073709551615)\r\n                                        minimum number of label queries.\r\n  --cost_max arg (=1)                   cost upper bound. Default 1.\r\n  --cost_min arg (=0)                   cost lower bound. Default 0.\r\n  --csa_debug                           print debug stuff for cs_active\r\n\r\nMultilabel One Against All:\r\n  --multilabel_oaa arg                  One-against-all multilabel with <k> \r\n                                        labels\r\n\r\n\r\nimportance weight classes:\r\n  --classweight arg                     importance weight multiplier for class\r\n\r\n\r\nRecall Tree:\r\n  --recall_tree arg                     Use online tree for multiclass\r\n\r\n  --max_candidates arg                  maximum number of labels per leaf in \r\n                                        the tree\r\n  --bern_hyper arg (=1)                 recall tree depth penalty\r\n  --max_depth arg                       maximum depth of the tree, default \r\n                                        log_2 (#classes)\r\n  --node_only arg (=0)                  only use node features, not full path \r\n                                        features\r\n  --randomized_routing arg (=0)         randomized routing\r\n\r\nLogarithmic Time Multiclass Tree:\r\n  --log_multi arg                       Use online tree for multiclass\r\n\r\n  --no_progress                         disable progressive validation\r\n  --swap_resistance arg (=4)            higher = more resistance to swap, \r\n                                        default=4\r\n\r\nError Correcting Tournament Options:\r\n  --ect arg                             Error correcting tournament with <k> \r\n                                        labels\r\n\r\n  --error arg (=0)                      errors allowed by ECT\r\n\r\nBoosting:\r\n  --boosting arg                        Online boosting with <N> weak learners\r\n\r\n  --gamma arg (=0.100000001)            weak learner's edge (=0.1), used only \r\n                                        by online BBM\r\n  --alg arg (=BBM)                      specify the boosting algorithm: BBM \r\n                                        (default), logistic (AdaBoost.OL.W), \r\n                                        adaptive (AdaBoost.OL)\r\n\r\nOne Against All Options:\r\n  --oaa arg                             One-against-all multiclass with <k> \r\n                                        labels\r\n\r\n  --oaa_subsample arg                   subsample this number of negative \r\n                                        examples when learning\r\n  --probabilities                       predict probabilites of all classes\r\n  --scores                              output raw scores per class\r\n\r\nTop K:\r\n  --top arg                             top k recommendation\r\n\r\n\r\nExperience Replay:\r\n  --replay_m arg                        use experience replay at a specified \r\n                                        level [b=classification/regression, \r\n                                        m=multiclass, c=cost sensitive] with \r\n                                        specified buffer size\r\n\r\n  --replay_m_count arg (=1)             how many times (in expectation) should \r\n                                        each example be played (default: 1 = \r\n                                        permuting)\r\n\r\nBinary loss:\r\n  --binary                              report loss as binary classification on\r\n                                        -1,1\r\n\r\n\r\nBootstrap:\r\n  --bootstrap arg                       k-way bootstrap by online importance \r\n                                        resampling\r\n\r\n  --bs_type arg                         prediction type {mean,vote}\r\n\r\nscorer options:\r\n  --link arg (=identity)                Specify the link function: identity, \r\n                                        logistic, glf1 or poisson\r\n\r\nStagewise polynomial options:\r\n  --stage_poly                          use stagewise polynomial feature \r\n                                        learning\r\n\r\n  --sched_exponent arg (=1)             exponent controlling quantity of \r\n                                        included features\r\n  --batch_sz arg (=1000)                multiplier on batch size before \r\n                                        including more features\r\n  --batch_sz_no_doubling                batch_sz does not double\r\n\r\nLow Rank Quadratics FA:\r\n  --lrqfa arg                           use low rank quadratic features with \r\n                                        field aware weights\r\n\r\n\r\nLow Rank Quadratics:\r\n  --lrq arg                             use low rank quadratic features\r\n\r\n  --lrqdropout                          use dropout training for low rank \r\n                                        quadratic features\r\n\r\nAutolink:\r\n  --autolink arg                        create link function with polynomial d\r\n\r\n\r\nMarginal:\r\n  --marginal arg                        substitute marginal label estimates for\r\n                                        ids\r\n\r\n  --initial_denominator arg (=1)        initial denominator\r\n  --initial_numerator arg (=0.5)        initial numerator\r\n  --compete                             enable competition with marginal \r\n                                        features\r\n  --update_before_learn arg (=0)        update marginal values before learning\r\n  --unweighted_marginals arg (=0)       ignore importance weights when \r\n                                        computing marginals\r\n  --decay arg (=0)                      decay multiplier per event (1e-3 for \r\n                                        example)\r\n\r\nMatrix Factorization Reduction:\r\n  --new_mf arg                          rank for reduction-based matrix \r\n                                        factorization\r\n\r\n\r\nNeural Network:\r\n  --nn arg                              Sigmoidal feedforward network with <k> \r\n                                        hidden units\r\n\r\n  --inpass                              Train or test sigmoidal feedforward \r\n                                        network with input passthrough.\r\n  --multitask                           Share hidden layer across all reduced \r\n                                        tasks.\r\n  --dropout                             Train or test sigmoidal feedforward \r\n                                        network using dropout.\r\n  --meanfield                           Train or test sigmoidal feedforward \r\n                                        network using mean field.\r\n\r\nConfidence:\r\n  --confidence                          Get confidence for binary predictions\r\n\r\n  --confidence_after_training           Confidence after training\r\n\r\nActive Learning with Cover:\r\n  --active_cover                        enable active learning with cover\r\n\r\n  --mellowness arg (=8)                 active learning mellowness parameter \r\n                                        c_0. Default 8.\r\n  --alpha arg (=1)                      active learning variance upper bound \r\n                                        parameter alpha. Default 1.\r\n  --beta_scale arg (=3.1622777)         active learning variance upper bound \r\n                                        parameter beta_scale. Default sqrt(10).\r\n  --cover arg (=12)                     cover size. Default 12.\r\n  --oracular                            Use Oracular-CAL style query or not. \r\n                                        Default false.\r\n\r\nActive Learning:\r\n  --active                              enable active learning\r\n\r\n  --simulation                          active learning simulation mode\r\n  --mellowness arg (=8)                 active learning mellowness parameter \r\n                                        c_0. Default 8\r\n\r\nExperience Replay:\r\n  --replay_b arg                        use experience replay at a specified \r\n                                        level [b=classification/regression, \r\n                                        m=multiclass, c=cost sensitive] with \r\n                                        specified buffer size\r\n\r\n  --replay_b_count arg (=1)             how many times (in expectation) should \r\n                                        each example be played (default: 1 = \r\n                                        permuting)\r\n\r\nBaseline options:\r\n  --baseline                            Learn an additive baseline (from \r\n                                        constant features) and a residual \r\n                                        separately in regression.\r\n\r\n  --lr_multiplier arg                   learning rate multiplier for baseline \r\n                                        model\r\n  --global_only                         use separate example with only global \r\n                                        constant for baseline predictions\r\n  --check_enabled                       only use baseline when the example \r\n                                        contains enabled flag\r\n\r\nOjaNewton options:\r\n  --OjaNewton                           Online Newton with Oja's Sketch\r\n\r\n  --sketch_size arg (=10)               size of sketch\r\n  --epoch_size arg (=1)                 size of epoch\r\n  --alpha arg (=1)                      mutiplicative constant for indentiy\r\n  --alpha_inverse arg                   one over alpha, similar to learning \r\n                                        rate\r\n  --learning_rate_cnt arg (=2)          constant for the learning rate 1/t\r\n  --normalize arg (=1)                  normalize the features or not\r\n  --random_init arg (=1)                randomize initialization of Oja or not\r\n\r\nLBFGS and Conjugate Gradient options:\r\n  --conjugate_gradient                  use conjugate gradient based \r\n                                        optimization\r\n\r\n\r\n  --bfgs                                use bfgs optimization\r\n\r\n  --hessian_on                          use second derivative in line search\r\n  --mem arg (=15)                       memory in bfgs\r\n  --termination arg (=0.00100000005)    Termination threshold\r\n\r\nLatent Dirichlet Allocation:\r\n  --lda arg                             Run lda with <int> topics\r\n\r\n  --lda_alpha arg (=0.100000001)        Prior on sparsity of per-document topic\r\n                                        weights\r\n  --lda_rho arg (=0.100000001)          Prior on sparsity of topic \r\n                                        distributions\r\n  --lda_D arg (=10000)                  Number of documents\r\n  --lda_epsilon arg (=0.00100000005)    Loop convergence threshold\r\n  --minibatch arg (=1)                  Minibatch size, for LDA\r\n  --math-mode arg (=0)                  Math mode: simd, accuracy, fast-approx\r\n  --metrics arg (=0)                    Compute metrics\r\n\r\nNoop Learner:\r\n  --noop                                do no learning\r\n\r\n\r\nPrint psuedolearner:\r\n  --print                               print examples\r\n\r\n\r\nGradient Descent Matrix Factorization:\r\n  --rank arg                            rank for matrix factorization.\r\n\r\n\r\nNetwork sending:\r\n  --sendto arg                          send examples to <host>\r\n\r\n\r\nStochastic Variance Reduced Gradient:\r\n  --svrg                                Streaming Stochastic Variance Reduced \r\n                                        Gradient\r\n\r\n  --stage_size arg (=1)                 Number of passes per SVRG stage\r\n\r\nFollow the Regularized Leader:\r\n  --ftrl                                FTRL: Follow the Proximal Regularized \r\n                                        Leader\r\n\r\n  --ftrl_alpha arg (=0.00499999989)     Learning rate for FTRL optimization\r\n  --ftrl_beta arg (=0.100000001)        FTRL beta parameter\r\n\r\n  --pistol                              FTRL: Parameter-free Stochastic \r\n                                        Learning\r\n\r\n  --ftrl_alpha arg (=1)                 Learning rate for FTRL optimization\r\n  --ftrl_beta arg (=0.5)                FTRL beta parameter\r\n\r\nKernel SVM:\r\n  --ksvm                                kernel svm\r\n\r\n  --reprocess arg (=1)                  number of reprocess steps for LASVM\r\n  --pool_greedy                         use greedy selection on mini pools\r\n  --para_active                         do parallel active learning\r\n  --pool_size arg (=1)                  size of pools for active learning\r\n  --subsample arg (=1)                  number of items to subsample from the \r\n                                        pool\r\n  --kernel arg (=linear)                type of kernel (rbf or linear \r\n                                        (default))\r\n  --bandwidth arg (=1)                  bandwidth of rbf kernel\r\n  --degree arg (=2)                     degree of poly kernel\r\n  --lambda arg                          saving regularization for test time\r\n\r\nGradient Descent options:\r\n  --sgd                                 use regular stochastic gradient descent\r\n                                        update.\r\n  --adaptive                            use adaptive, individual learning \r\n                                        rates.\r\n  --adax                                use adaptive learning rates with x^2 \r\n                                        instead of g^2x^2\r\n  --invariant                           use safe/importance aware updates.\r\n  --normalized                          use per feature normalized updates\r\n  --sparse_l2 arg (=0)                  use per feature normalized updates\r\n  --l1_state arg (=0)                   use per feature normalized updates\r\n  --l2_state arg (=1)                   use per feature normalized updates\r\n\r\nInput options:\r\n  -d [ --data ] arg                     Example Set\r\n  --daemon                              persistent daemon mode on port 26542\r\n  --foreground                          in persistent daemon mode, do not run \r\n                                        in the background\r\n  --port arg                            port to listen on; use 0 to pick unused\r\n                                        port\r\n  --num_children arg                    number of children for persistent \r\n                                        daemon mode\r\n  --pid_file arg                        Write pid file in persistent daemon \r\n                                        mode\r\n  --port_file arg                       Write port used in persistent daemon \r\n                                        mode\r\n  -c [ --cache ]                        Use a cache.  The default is \r\n                                        <data>.cache\r\n  --cache_file arg                      The location(s) of cache_file.\r\n  --json                                Enable JSON parsing.\r\n  --dsjson                              Enable Decision Service JSON parsing.\r\n  -k [ --kill_cache ]                   do not reuse existing cache: create a \r\n                                        new one always\r\n  --compressed                          use gzip format whenever possible. If a\r\n                                        cache file is being created, this \r\n                                        option creates a compressed cache file.\r\n                                        A mixture of raw-text & compressed \r\n                                        inputs are supported with \r\n                                        autodetection.\r\n  --no_stdin                            do not default to reading from stdin\r\n"
        }
      ]
    },
    {
      "metadata": {
        "lang": "fr"
      },
      "cell_type": "markdown",
      "source": "Vowpal Wabbit lit les données des fichiers ou du flux d'entrée standard (stdin) avec le format suivant:\n\n`[Label] [Importance] [Tag]|Namespace Features |Namespace Features ... |Namespace Features`\n\n`Namespace=String[:Value]`\n\n`Features=(String[:Value] )*`\n\n[] désigne des éléments non obligatoires et (...)* signifie plusieurs entrées autorisées.\n\n- **Label** est un nombre. Dans le cas de la classification, il vaut généralement 1 et -1; pour la régression, c'est une vraie valeur flottante\n- **Importance** est un nombre. Il indique le poids de l'échantillon pendant l'entraînement. Cette configuration aide lorsque vous travaillez avec des données déséquilibrées.\n- **Tag** est une chaîne sans espaces. C'est le \"nom\" de l'échantillon que VW enregistre lors de la prédiction. Afin de séparer Tag de Importance, il est préférable de commencer Tag avec le caractère '.\n- **Namespace** sert à créer différents espaces de caractéristiques.\n- **Les caractéristiques** sont des caractéristiques d'objet à l'intérieur d'un **espace de noms** donné. Les caractéristiques ont un poids de 1,0 par défaut, mais il peut être modifié, par exemple caractéristique: 0,1.\n\n\nLa chaîne suivante correspond au format VW:\n\n```\n1 1.0 |Subject WHAT car is this |Organization University of Maryland:0.5 College Park\n```\n\n\nVérifions le format en exécutant VW avec cet exemple d'entraînement:"
    },
    {
      "metadata": {
        "_cell_guid": "5cbedd43-8d8e-4577-9a67-4f2879f0666c",
        "_uuid": "250fa571012a53fbe15f9b16bd88244dae4f805a",
        "trusted": false
      },
      "cell_type": "code",
      "source": "! echo '1 1.0 |Subject WHAT car is this |Organization University of Maryland:0.5 College Park' | vw",
      "execution_count": 22,
      "outputs": [
        {
          "name": "stdout",
          "output_type": "stream",
          "text": "Num weight bits = 18\r\nlearning rate = 0.5\r\ninitial_t = 0\r\npower_t = 0.5\r\nusing no cache\r\nReading datafile = \r\nnum sources = 1\r\naverage  since         example        example  current  current  current\r\nloss     last          counter         weight    label  predict features\r\n1.000000 1.000000            1            1.0   1.0000   0.0000       10\r\n\r\nfinished run\r\nnumber of examples = 1\r\nweighted example sum = 1.000000\r\nweighted label sum = 1.000000\r\naverage loss = 1.000000\r\nbest constant = 1.000000\r\nbest constant's loss = 0.000000\r\ntotal feature number = 10\r\n"
        }
      ]
    },
    {
      "metadata": {
        "lang": "fr"
      },
      "cell_type": "markdown",
      "source": "VW est un outil formidable pour travailler avec des données textuelles. Nous allons l'illustrer avec le jeu de données [20newsgroups](http://scikit-learn.org/stable/datasets/twenty_newsgroups.html), qui contient des articles de 20 newsletters différentes.\n\n\n### 3.1. Articles. Classification binaire."
    },
    {
      "metadata": {
        "_cell_guid": "a37611a4-5bdb-40bb-9b89-bfddd8726ba9",
        "_uuid": "0f527d54e1a759be5fb53665ae4b768116094b27",
        "trusted": false
      },
      "cell_type": "code",
      "source": "# load data with sklearn's function \nnewsgroups = fetch_20newsgroups(PATH_TO_ALL_DATA)",
      "execution_count": 23,
      "outputs": []
    },
    {
      "metadata": {
        "_cell_guid": "7fad47bd-c5fc-4b56-b024-0e866137d07b",
        "_uuid": "a582c83f4d792d71d12e5063d7539c040b017a67",
        "trusted": false
      },
      "cell_type": "code",
      "source": "newsgroups['target_names']",
      "execution_count": 24,
      "outputs": [
        {
          "data": {
            "text/plain": "['alt.atheism',\n 'comp.graphics',\n 'comp.os.ms-windows.misc',\n 'comp.sys.ibm.pc.hardware',\n 'comp.sys.mac.hardware',\n 'comp.windows.x',\n 'misc.forsale',\n 'rec.autos',\n 'rec.motorcycles',\n 'rec.sport.baseball',\n 'rec.sport.hockey',\n 'sci.crypt',\n 'sci.electronics',\n 'sci.med',\n 'sci.space',\n 'soc.religion.christian',\n 'talk.politics.guns',\n 'talk.politics.mideast',\n 'talk.politics.misc',\n 'talk.religion.misc']"
          },
          "execution_count": 24,
          "metadata": {},
          "output_type": "execute_result"
        }
      ]
    },
    {
      "metadata": {
        "lang": "fr"
      },
      "cell_type": "markdown",
      "source": "Regardons le premier document de cette collection:"
    },
    {
      "metadata": {
        "_cell_guid": "d571d3d0-fba9-4d2f-a4a9-3a36e80fe456",
        "_uuid": "039c32b72a84277884c788de8fe2a5e692a4dfb5",
        "trusted": false
      },
      "cell_type": "code",
      "source": "text = newsgroups['data'][0]\ntarget = newsgroups['target_names'][newsgroups['target'][0]]\n\nprint('-----')\nprint(target)\nprint('-----')\nprint(text.strip())\nprint('----')",
      "execution_count": 25,
      "outputs": [
        {
          "name": "stdout",
          "output_type": "stream",
          "text": "-----\nrec.autos\n-----\nFrom: lerxst@wam.umd.edu (where's my thing)\nSubject: WHAT car is this!?\nNntp-Posting-Host: rac3.wam.umd.edu\nOrganization: University of Maryland, College Park\nLines: 15\n\n I was wondering if anyone out there could enlighten me on this car I saw\nthe other day. It was a 2-door sports car, looked to be from the late 60s/\nearly 70s. It was called a Bricklin. The doors were really small. In addition,\nthe front bumper was separate from the rest of the body. This is \nall I know. If anyone can tellme a model name, engine specs, years\nof production, where this car is made, history, or whatever info you\nhave on this funky looking car, please e-mail.\n\nThanks,\n- IL\n   ---- brought to you by your neighborhood Lerxst ----\n----\n"
        }
      ]
    },
    {
      "metadata": {
        "lang": "fr"
      },
      "cell_type": "markdown",
      "source": "Maintenant, nous convertissons les données en quelque chose que Vowpal Wabbit peut comprendre. Nous rejetterons les mots de moins de 3 symboles. Ici, nous allons sauter certaines étapes importantes du NLP telles que le stemming et la lemmatisation; cependant, nous verrons plus tard que VW résout le problème même sans ces étapes."
    },
    {
      "metadata": {
        "_cell_guid": "61c25a92-1b0a-45cf-904f-6c35de89575f",
        "_uuid": "9b480cff8801ad51f371b05f6f63225c758883ca",
        "trusted": false
      },
      "cell_type": "code",
      "source": "def to_vw_format(document, label=None):\n    return str(label or '') + ' |text ' + ' '.join(re.findall('\\w{3,}', \n                                               document.lower())) + '\\n'\n\nto_vw_format(text, 1 if target == 'rec.autos' else -1)",
      "execution_count": 26,
      "outputs": [
        {
          "data": {
            "text/plain": "'1 |text from lerxst wam umd edu where thing subject what car this nntp posting host rac3 wam umd edu organization university maryland college park lines was wondering anyone out there could enlighten this car saw the other day was door sports car looked from the late 60s early 70s was called bricklin the doors were really small addition the front bumper was separate from the rest the body this all know anyone can tellme model name engine specs years production where this car made history whatever info you have this funky looking car please mail thanks brought you your neighborhood lerxst\\n'"
          },
          "execution_count": 26,
          "metadata": {},
          "output_type": "execute_result"
        }
      ]
    },
    {
      "metadata": {
        "lang": "fr"
      },
      "cell_type": "markdown",
      "source": "Nous divisons l'ensemble de données en **train** et **test** et les écrivons dans des fichiers séparés. Nous considérerons un document comme positif s'il correspond à **rec.autos**. Ainsi, nous construisons un modèle qui distingue les articles sur les voitures d'autres sujets:"
    },
    {
      "metadata": {
        "_cell_guid": "297c4ed7-3157-412e-b3af-1bc59084defd",
        "_uuid": "f5754e324f2165a47ab603e2e5fafa5b681ea1e9",
        "trusted": false
      },
      "cell_type": "code",
      "source": "all_documents = newsgroups['data']\nall_targets = [1 if newsgroups['target_names'][target] == 'rec.autos' \n               else -1 for target in newsgroups['target']]",
      "execution_count": 27,
      "outputs": []
    },
    {
      "metadata": {
        "_cell_guid": "d0cd644c-fdd2-4b46-9ff5-377ef12a3d6e",
        "_uuid": "623b5b239dda745dc0e79a7b225825eed8f98d09",
        "trusted": false
      },
      "cell_type": "code",
      "source": "train_documents, test_documents, train_labels, test_labels = \\\n    train_test_split(all_documents, all_targets, random_state=7)\n    \nwith open(os.path.join(PATH_TO_ALL_DATA, '20news_train.vw'), 'w') as vw_train_data:\n    for text, target in zip(train_documents, train_labels):\n        vw_train_data.write(to_vw_format(text, target))\nwith open(os.path.join(PATH_TO_ALL_DATA, '20news_test.vw'), 'w') as vw_test_data:\n    for text in test_documents:\n        vw_test_data.write(to_vw_format(text))",
      "execution_count": 28,
      "outputs": []
    },
    {
      "metadata": {
        "lang": "fr"
      },
      "cell_type": "markdown",
      "source": "Maintenant, nous transmettons le fichier de formation créé à Vowpal Wabbit. Nous résolvons le problème de classification avec une fonction de perte charnière (SVM linéaire). Le modèle entraîné sera enregistré dans le fichier `20news_model.vw`:"
    },
    {
      "metadata": {
        "_cell_guid": "80f2960a-2389-4810-9b04-1928b613b4b2",
        "_uuid": "7a5a15cc11e801a98b493bab026136c9eeb33816",
        "trusted": false
      },
      "cell_type": "code",
      "source": "!vw -d $PATH_TO_ALL_DATA/20news_train.vw \\\n --loss_function hinge -f $PATH_TO_ALL_DATA/20news_model.vw",
      "execution_count": 29,
      "outputs": [
        {
          "name": "stdout",
          "output_type": "stream",
          "text": "final_regressor = ../../data//20news_model.vw\nNum weight bits = 18\nlearning rate = 0.5\ninitial_t = 0\npower_t = 0.5\nusing no cache\nReading datafile = ../../data//20news_train.vw\nnum sources = 1\naverage  since         example        example  current  current  current\nloss     last          counter         weight    label  predict features\n1.000000 1.000000            1            1.0  -1.0000   0.0000      157\n0.911276 0.822551            2            2.0  -1.0000  -0.1774      159\n0.605793 0.300311            4            4.0  -1.0000  -0.3994       92\n0.419594 0.233394            8            8.0  -1.0000  -0.8167      129\n0.313998 0.208402           16           16.0  -1.0000  -0.6509      108\n0.196014 0.078029           32           32.0  -1.0000  -1.0000      115\n0.183158 0.170302           64           64.0  -1.0000  -0.7072      114\n0.261046 0.338935          128          128.0   1.0000  -0.7900      110\n0.262910 0.264774          256          256.0  -1.0000  -0.6425       44\n0.216663 0.170415          512          512.0  -1.0000  -1.0000      160\n0.176710 0.136757         1024         1024.0  -1.0000  -1.0000      194\n0.134541 0.092371         2048         2048.0  -1.0000  -1.0000      438\n0.104403 0.074266         4096         4096.0  -1.0000  -1.0000      644\n0.081329 0.058255         8192         8192.0  -1.0000  -1.0000      174\n\nfinished run\nnumber of examples = 8485\nweighted example sum = 8485.000000\nweighted label sum = -7555.000000\naverage loss = 0.079837\nbest constant = -1.000000\nbest constant's loss = 0.109605\ntotal feature number = 2048932\n"
        }
      ]
    },
    {
      "metadata": {
        "lang": "fr"
      },
      "cell_type": "markdown",
      "source": "VW imprime beaucoup d'informations intéressantes pendant l'entraînement (on peut les supprimer avec le paramètre `--quiet`). Vous pouvez voir la documentation de la sortie de diagnostic sur [GitHub](https://github.com/JohnLangford/vowpal_wabbit/wiki/Tutorial#vws-diagnostic-information). Notez comment la perte moyenne diminue pendant l'entraînement. Pour le calcul des pertes, VW utilise des échantillons qu'il n'a jamais vus auparavant, donc cette mesure est généralement précise. Maintenant, nous appliquons notre modèle entraîné à l'ensemble de test, en enregistrant les prédictions dans un fichier avec l'indicateur `-p`:"
    },
    {
      "metadata": {
        "_cell_guid": "17c99751-4e30-4251-b18f-fe6ed8a34e58",
        "_uuid": "276f1431b121543e67f668bb5e9d601dd882e98e",
        "trusted": false
      },
      "cell_type": "code",
      "source": "!vw -i $PATH_TO_ALL_DATA/20news_model.vw -t -d $PATH_TO_ALL_DATA/20news_test.vw \\\n-p $PATH_TO_ALL_DATA/20news_test_predictions.txt",
      "execution_count": 30,
      "outputs": [
        {
          "name": "stdout",
          "output_type": "stream",
          "text": "only testing\r\npredictions = ../../data//20news_test_predictions.txt\r\nNum weight bits = 18\r\nlearning rate = 0.5\r\ninitial_t = 0\r\npower_t = 0.5\r\nusing no cache\r\nReading datafile = ../../data//20news_test.vw\r\nnum sources = 1\r\naverage  since         example        example  current  current  current\r\nloss     last          counter         weight    label  predict features\r\n    n.a.     n.a.            1            1.0  unknown   1.0000      349\r\n    n.a.     n.a.            2            2.0  unknown  -1.0000       50\r\n    n.a.     n.a.            4            4.0  unknown  -1.0000      251\r\n    n.a.     n.a.            8            8.0  unknown  -1.0000      237\r\n    n.a.     n.a.           16           16.0  unknown  -0.8978      106\r\n    n.a.     n.a.           32           32.0  unknown  -1.0000      964\r\n    n.a.     n.a.           64           64.0  unknown  -1.0000      261\r\n    n.a.     n.a.          128          128.0  unknown   0.4621       82\r\n    n.a.     n.a.          256          256.0  unknown  -1.0000      186\r\n    n.a.     n.a.          512          512.0  unknown  -1.0000      162\r\n    n.a.     n.a.         1024         1024.0  unknown  -1.0000      283\r\n    n.a.     n.a.         2048         2048.0  unknown  -1.0000      104\r\n\r\nfinished run\r\nnumber of examples = 2829\r\nweighted example sum = 2829.000000\r\nweighted label sum = 0.000000\r\naverage loss = n.a.\r\ntotal feature number = 642215\r\n"
        }
      ]
    },
    {
      "metadata": {
        "lang": "fr"
      },
      "cell_type": "markdown",
      "source": "Maintenant, nous chargeons nos prédictions, calculons AUC et traçons la courbe ROC:"
    },
    {
      "metadata": {
        "_cell_guid": "93d9f296-f06b-4d18-94a5-e18ccf88b094",
        "_uuid": "40b4112f1afa764db10b58b0ab05adfed48ab388",
        "trusted": false
      },
      "cell_type": "code",
      "source": "with open(os.path.join(PATH_TO_ALL_DATA, \n                       '20news_test_predictions.txt')) as pred_file:\n    test_prediction = [float(label) \n                       for label in pred_file.readlines()]\n\nauc = roc_auc_score(test_labels, test_prediction)\nroc_curve = roc_curve(test_labels, test_prediction)\n\nwith plt.xkcd():\n    plt.plot(roc_curve[0], roc_curve[1]);\n    plt.plot([0,1], [0,1])\n    plt.xlabel('FPR'); plt.ylabel('TPR'); \n    plt.title('test AUC = %f' % (auc)); \n    plt.axis([-0.05,1.05,-0.05,1.05]);",
      "execution_count": 31,
      "outputs": [
        {
          "data": {
            "image/png": "[encoded data removed]",
            "text/plain": "<Figure size 432x288 with 1 Axes>"
          },
          "metadata": {},
          "output_type": "display_data"
        }
      ]
    },
    {
      "metadata": {
        "lang": "fr"
      },
      "cell_type": "markdown",
      "source": "La valeur AUC que nous obtenons montre que nous avons atteint une qualité de classification élevée."
    },
    {
      "metadata": {
        "lang": "fr"
      },
      "cell_type": "markdown",
      "source": "### 3.2. Articles. Classification multiclasse"
    },
    {
      "metadata": {
        "lang": "fr"
      },
      "cell_type": "markdown",
      "source": "Nous utiliserons le même jeu de données d'actualités, mais, cette fois, nous allons résoudre un problème de classification multiclasse. «Vowpal Wabbit» est un peu pointilleux - il veut des étiquettes commençant de 1 à K, où K - est le nombre de classes dans la tâche de classification (20 dans notre cas). Nous allons donc utiliser LabelEncoder et ajouter 1 par la suite (rappelez-vous que `LabelEncoder` mappe les étiquettes dans la plage de 0 à K-1)."
    },
    {
      "metadata": {
        "_cell_guid": "e94dfe85-61d6-42d2-b19e-89923b511535",
        "_uuid": "30fca7585b9d841b5925ec9b3db9b12ff1bb5142",
        "trusted": false
      },
      "cell_type": "code",
      "source": "all_documents = newsgroups['data']\ntopic_encoder = LabelEncoder()\nall_targets_mult = topic_encoder.fit_transform(newsgroups['target']) + 1",
      "execution_count": 32,
      "outputs": []
    },
    {
      "metadata": {
        "lang": "fr"
      },
      "cell_type": "markdown",
      "source": "**Les données sont les mêmes, mais nous avons changé les étiquettes, train_labels_mult et test_labels_mult, en vecteurs d'étiquettes de 1 à 20.**"
    },
    {
      "metadata": {
        "_cell_guid": "90e22502-efe9-4a2c-9868-fa6a18ed91b2",
        "_uuid": "f90ea2c247690e680d26f6d30992daf45ffd0315",
        "trusted": false
      },
      "cell_type": "code",
      "source": "train_documents, test_documents, train_labels_mult, test_labels_mult = \\\n    train_test_split(all_documents, all_targets_mult, random_state=7)\n    \nwith open(os.path.join(PATH_TO_ALL_DATA, \n                       '20news_train_mult.vw'), 'w') as vw_train_data:\n    for text, target in zip(train_documents, train_labels_mult):\n        vw_train_data.write(to_vw_format(text, target))\nwith open(os.path.join(PATH_TO_ALL_DATA, \n                       '20news_test_mult.vw'), 'w') as vw_test_data:\n    for text in test_documents:\n        vw_test_data.write(to_vw_format(text))",
      "execution_count": 33,
      "outputs": []
    },
    {
      "metadata": {
        "lang": "fr"
      },
      "cell_type": "markdown",
      "source": "Nous entraînons Vowpal Wabbit en mode de classification multiclasse, en passant le paramètre `oaa` (\" un contre tous \") avec le nombre de classes. Voyons également de quels paramètres la qualité de notre modèle dépend (plus d'informations peuvent être trouvées dans le [tutoriel officiel de Vowpal Wabbit](https://github.com/JohnLangford/vowpal_wabbit/wiki/Tutorial)):\n - learning rate (-l, 0,5 par défaut) - taux de changement de poids à chaque pas\n - learning rate decay (--power_ t, 0.5 par défaut) - il est prouvé en pratique que, si le taux d'apprentissage diminue avec le nombre de pas en descente de gradient stochastique, on approche mieux la perte minimale\n - loss function (fonction --loss _) - tout l'algorithme d'apprentissage en dépend. Voir [docs](https://github.com/JohnLangford/vowpal_wabbit/wiki/Loss-functions) pour les fonctions de perte\n - Regularization (-l1) - notez que VW calcule la régularisation pour chaque objet. C'est pourquoi nous définissons généralement les valeurs de régularisation à environ $10^{-20}.$\n \nDe plus, nous pouvons essayer le réglage automatique des paramètres Vowpal Wabbit avec [Hyperopt](https://github.com/hyperopt/hyperopt)."
    },
    {
      "metadata": {
        "_cell_guid": "80ae364e-8332-41db-bdc3-7f642bb24d7a",
        "_uuid": "97ea9ebcb6ed46b5512f5a9364680e501c2925cf",
        "trusted": false
      },
      "cell_type": "code",
      "source": "%%time\n!vw --oaa 20 $PATH_TO_ALL_DATA/20news_train_mult.vw -f $PATH_TO_ALL_DATA/20news_model_mult.vw \\\n--loss_function=hinge",
      "execution_count": 34,
      "outputs": [
        {
          "name": "stdout",
          "output_type": "stream",
          "text": "final_regressor = ../../data//20news_model_mult.vw\nNum weight bits = 18\nlearning rate = 0.5\ninitial_t = 0\npower_t = 0.5\nusing no cache\nReading datafile = ../../data//20news_train_mult.vw\nnum sources = 1\naverage  since         example        example  current  current  current\nloss     last          counter         weight    label  predict features\n1.000000 1.000000            1            1.0       15        1      157\n1.000000 1.000000            2            2.0        2       15      159\n1.000000 1.000000            4            4.0       15       10       92\n1.000000 1.000000            8            8.0       16       15      129\n1.000000 1.000000           16           16.0       13       12      108\n0.937500 0.875000           32           32.0        2        9      115\n0.906250 0.875000           64           64.0       16       16      114\n0.867188 0.828125          128          128.0        8        4      110\n0.816406 0.765625          256          256.0        7       15       44\n0.646484 0.476562          512          512.0       13        9      160\n0.502930 0.359375         1024         1024.0        3        4      194\n0.388672 0.274414         2048         2048.0        1        1      438\n0.300293 0.211914         4096         4096.0       11       11      644\n0.225098 0.149902         8192         8192.0        5        5      174\n\nfinished run\nnumber of examples = 8485\nweighted example sum = 8485.000000\nweighted label sum = 0.000000\naverage loss = 0.222392\ntotal feature number = 2048932\nCPU times: user 4.77 ms, sys: 4.45 ms, total: 9.22 ms\nWall time: 506 ms\n"
        }
      ]
    },
    {
      "metadata": {
        "_cell_guid": "4d78df8b-f6d2-477a-b5be-a5f7364c0e56",
        "_uuid": "d30d194b2be9521d609d703385f528c24a557aa0",
        "trusted": false
      },
      "cell_type": "code",
      "source": "%%time\n!vw -i $PATH_TO_ALL_DATA/20news_model_mult.vw -t -d $PATH_TO_ALL_DATA/20news_test_mult.vw \\\n-p $PATH_TO_ALL_DATA/20news_test_predictions_mult.txt",
      "execution_count": 35,
      "outputs": [
        {
          "name": "stdout",
          "output_type": "stream",
          "text": "only testing\npredictions = ../../data//20news_test_predictions_mult.txt\nNum weight bits = 18\nlearning rate = 0.5\ninitial_t = 0\npower_t = 0.5\nusing no cache\nReading datafile = ../../data//20news_test_mult.vw\nnum sources = 1\naverage  since         example        example  current  current  current\nloss     last          counter         weight    label  predict features\n    n.a.     n.a.            1            1.0  unknown        8      349\n    n.a.     n.a.            2            2.0  unknown        6       50\n    n.a.     n.a.            4            4.0  unknown       18      251\n    n.a.     n.a.            8            8.0  unknown       18      237\n    n.a.     n.a.           16           16.0  unknown        4      106\n    n.a.     n.a.           32           32.0  unknown       15      964\n    n.a.     n.a.           64           64.0  unknown        4      261\n    n.a.     n.a.          128          128.0  unknown        8       82\n    n.a.     n.a.          256          256.0  unknown       10      186\n    n.a.     n.a.          512          512.0  unknown        1      162\n    n.a.     n.a.         1024         1024.0  unknown       11      283\n    n.a.     n.a.         2048         2048.0  unknown       14      104\n\nfinished run\nnumber of examples = 2829\nweighted example sum = 2829.000000\nweighted label sum = 0.000000\naverage loss = n.a.\ntotal feature number = 642215\nCPU times: user 6.79 ms, sys: 13.6 ms, total: 20.4 ms\nWall time: 371 ms\n"
        }
      ]
    },
    {
      "metadata": {
        "_cell_guid": "bf4c66cf-3039-4ac4-a129-e52652c16d8d",
        "_uuid": "f6911717662ade8c466cc2f3681f356619d8676c",
        "trusted": false
      },
      "cell_type": "code",
      "source": "with open(os.path.join(PATH_TO_ALL_DATA, \n                       '20news_test_predictions_mult.txt')) as pred_file:\n    test_prediction_mult = [float(label) \n                            for label in pred_file.readlines()]",
      "execution_count": 36,
      "outputs": []
    },
    {
      "metadata": {
        "_cell_guid": "c8cd9521-6c23-412b-959d-19e9f95bd5ee",
        "_uuid": "c110cfb692d0c280009ca815efa504f5889e28a6",
        "trusted": false
      },
      "cell_type": "code",
      "source": "accuracy_score(test_labels_mult, test_prediction_mult)",
      "execution_count": 37,
      "outputs": [
        {
          "data": {
            "text/plain": "0.8734535171438671"
          },
          "execution_count": 37,
          "metadata": {},
          "output_type": "execute_result"
        }
      ]
    },
    {
      "metadata": {
        "lang": "fr"
      },
      "cell_type": "markdown",
      "source": "Voici à quelle fréquence le modèle classe mal l'athéisme avec d'autres sujets:"
    },
    {
      "metadata": {
        "_cell_guid": "5b40bd39-4895-4713-be3a-2fea6fa37062",
        "_uuid": "fefe7d01f98e8cd3af7ce5a3b7d0f859755e5047",
        "trusted": false
      },
      "cell_type": "code",
      "source": "M = confusion_matrix(test_labels_mult, test_prediction_mult)\nfor i in np.where(M[0,:] > 0)[0][1:]:\n    print(newsgroups['target_names'][i], M[0,i])",
      "execution_count": 38,
      "outputs": [
        {
          "name": "stdout",
          "output_type": "stream",
          "text": "rec.autos 1\nrec.sport.baseball 1\nsci.med 1\nsoc.religion.christian 3\ntalk.religion.misc 5\n"
        }
      ]
    },
    {
      "metadata": {
        "lang": "fr"
      },
      "cell_type": "markdown",
      "source": "### 3.3. Critiques de films IMDB\nDans cette partie, nous ferons la classification binaire des critiques de films [IMDB](http://www.imdb.com) (International Movie DataBase). Nous verrons à quelle vitesse Vowpal Wabbit fonctionne.\n\nEn utilisant la fonction `load_files` de` sklearn.datasets`, nous chargeons les ensembles de données des critiques de films. C'est le même jeu de données que nous avons utilisé dans le notebook topic04 part4."
    },
    {
      "metadata": {
        "_cell_guid": "a1827aa1-5bc7-4838-bb01-68792de451b6",
        "_uuid": "e719b5b6c976cf9daf10a9f3b7c35b4cde79b057",
        "trusted": false
      },
      "cell_type": "code",
      "source": "#Download the dataset if not already in place\nfrom io import BytesIO\nimport requests\nimport tarfile\n\nurl = \"http://ai.stanford.edu/~amaas/data/sentiment/aclImdb_v1.tar.gz\"\n\ndef load_imdb_dataset(extract_path=\"../../data\", overwrite=False):\n    #check if existed already\n    if os.path.isfile(os.path.join(extract_path, \"aclImdb\", \"README\")) and not overwrite:\n        print(\"IMDB dataset is already in place.\")\n        return\n    \n    print(\"Downloading the dataset from:  \", url)\n    response = requests.get(url)\n    \n    tar = tarfile.open(mode= \"r:gz\", fileobj = BytesIO(response.content))\n    \n    data = tar.extractall(extract_path)\n    \nload_imdb_dataset()",
      "execution_count": 39,
      "outputs": [
        {
          "name": "stdout",
          "output_type": "stream",
          "text": "IMDB dataset is already in place.\n"
        }
      ]
    },
    {
      "metadata": {
        "lang": "fr"
      },
      "cell_type": "markdown",
      "source": "Lire les données du train, séparer les étiquettes."
    },
    {
      "metadata": {
        "trusted": false
      },
      "cell_type": "code",
      "source": "PATH_TO_IMDB = \"../../data/aclImdb\"\n\nreviews_train = load_files(os.path.join(PATH_TO_IMDB, \"train\"),\n                           categories=['pos', 'neg'])\n\ntext_train, y_train = reviews_train.data, reviews_train.target",
      "execution_count": 40,
      "outputs": []
    },
    {
      "metadata": {
        "_cell_guid": "db550541-630a-47a5-8b98-246d94a3fb33",
        "_uuid": "593032d9be6e7aff583e0c7ba40e3e801b136edf",
        "trusted": false
      },
      "cell_type": "code",
      "source": "print(\"Number of documents in training data: %d\" % len(text_train))\nprint(np.bincount(y_train))",
      "execution_count": 41,
      "outputs": [
        {
          "name": "stdout",
          "output_type": "stream",
          "text": "Number of documents in training data: 25000\n[12500 12500]\n"
        }
      ]
    },
    {
      "metadata": {
        "lang": "fr"
      },
      "cell_type": "markdown",
      "source": "Faire de même pour l'ensemble de test."
    },
    {
      "metadata": {
        "_cell_guid": "ce60fd02-e5d4-40aa-a5db-33556ef7063f",
        "_uuid": "8fea469dd838a26671f234d54cf82d6f57188e73",
        "trusted": false
      },
      "cell_type": "code",
      "source": "reviews_test = load_files(os.path.join(PATH_TO_IMDB, \"test\"),\n                          categories=['pos', 'neg'])\ntext_test, y_test = reviews_test.data, reviews_test.target",
      "execution_count": 42,
      "outputs": []
    },
    {
      "metadata": {
        "trusted": false
      },
      "cell_type": "code",
      "source": "print(\"Number of documents in test data: %d\" % len(text_test))\nprint(np.bincount(y_test))",
      "execution_count": 43,
      "outputs": [
        {
          "name": "stdout",
          "output_type": "stream",
          "text": "Number of documents in test data: 25000\n[12500 12500]\n"
        }
      ]
    },
    {
      "metadata": {
        "lang": "fr"
      },
      "cell_type": "markdown",
      "source": "Jetez un œil à des exemples d'avis et leurs libellés correspondants."
    },
    {
      "metadata": {
        "_cell_guid": "213017e1-25f0-4d08-8d9c-5341b449b8f6",
        "_uuid": "aea5acfcef80c4006dbcab233d237d2cd091ab48",
        "trusted": false
      },
      "cell_type": "code",
      "source": "text_train[0]",
      "execution_count": 44,
      "outputs": [
        {
          "data": {
            "text/plain": "b\"Zero Day leads you to think, even re-think why two boys/young men would do what they did - commit mutual suicide via slaughtering their classmates. It captures what must be beyond a bizarre mode of being for two humans who have decided to withdraw from common civility in order to define their own/mutual world via coupled destruction.<br /><br />It is not a perfect movie but given what money/time the filmmaker and actors had - it is a remarkable product. In terms of explaining the motives and actions of the two young suicide/murderers it is better than 'Elephant' - in terms of being a film that gets under our 'rationalistic' skin it is a far, far better film than almost anything you are likely to see. <br /><br />Flawed but honest with a terrible honesty.\""
          },
          "execution_count": 44,
          "metadata": {},
          "output_type": "execute_result"
        }
      ]
    },
    {
      "metadata": {
        "_cell_guid": "23c8ca4d-7287-406a-8381-f9c9c095f1b7",
        "_uuid": "976c29d60e5fc1da27e36b5c34dd1fa4185cd083",
        "trusted": false
      },
      "cell_type": "code",
      "source": "y_train[0] # good review",
      "execution_count": 45,
      "outputs": [
        {
          "data": {
            "text/plain": "1"
          },
          "execution_count": 45,
          "metadata": {},
          "output_type": "execute_result"
        }
      ]
    },
    {
      "metadata": {
        "_cell_guid": "b4cd5590-5952-4388-9960-37702e78be4f",
        "_uuid": "2fe24a84eb18599fb67664a63e3b2178ee29ee26",
        "trusted": false
      },
      "cell_type": "code",
      "source": "text_train[1]",
      "execution_count": 46,
      "outputs": [
        {
          "data": {
            "text/plain": "b'Words can\\'t describe how bad this movie is. I can\\'t explain it by writing only. You have too see it for yourself to get at grip of how horrible a movie really can be. Not that I recommend you to do that. There are so many clich\\xc3\\xa9s, mistakes (and all other negative things you can imagine) here that will just make you cry. To start with the technical first, there are a LOT of mistakes regarding the airplane. I won\\'t list them here, but just mention the coloring of the plane. They didn\\'t even manage to show an airliner in the colors of a fictional airline, but instead used a 747 painted in the original Boeing livery. Very bad. The plot is stupid and has been done many times before, only much, much better. There are so many ridiculous moments here that i lost count of it really early. Also, I was on the bad guys\\' side all the time in the movie, because the good guys were so stupid. \"Executive Decision\" should without a doubt be you\\'re choice over this one, even the \"Turbulence\"-movies are better. In fact, every other movie in the world is better than this one.'"
          },
          "execution_count": 46,
          "metadata": {},
          "output_type": "execute_result"
        }
      ]
    },
    {
      "metadata": {
        "_cell_guid": "0faa88f7-c96d-4073-9b16-b6d68d31d354",
        "_uuid": "f64122c2e93648b75494df26b1de4bf01358df35",
        "trusted": false
      },
      "cell_type": "code",
      "source": "y_train[1] # bad review",
      "execution_count": 47,
      "outputs": [
        {
          "data": {
            "text/plain": "0"
          },
          "execution_count": 47,
          "metadata": {},
          "output_type": "execute_result"
        }
      ]
    },
    {
      "metadata": {
        "_cell_guid": "23032bfe-25d1-4f79-b24e-a4cb69f44127",
        "_uuid": "0ce9e75db41712f6f9161f9d6cd8000381a5b3ba",
        "trusted": false
      },
      "cell_type": "code",
      "source": "to_vw_format(str(text_train[1]), 1 if y_train[0] == 1 else -1)",
      "execution_count": 48,
      "outputs": [
        {
          "data": {
            "text/plain": "'1 |text words can describe how bad this movie can explain writing only you have too see for yourself get grip how horrible movie really can not that recommend you that there are many clich xc3 xa9s mistakes and all other negative things you can imagine here that will just make you cry start with the technical first there are lot mistakes regarding the airplane won list them here but just mention the coloring the plane they didn even manage show airliner the colors fictional airline but instead used 747 painted the original boeing livery very bad the plot stupid and has been done many times before only much much better there are many ridiculous moments here that lost count really early also was the bad guys side all the time the movie because the good guys were stupid executive decision should without doubt you choice over this one even the turbulence movies are better fact every other movie the world better than this one\\n'"
          },
          "execution_count": 48,
          "metadata": {},
          "output_type": "execute_result"
        }
      ]
    },
    {
      "metadata": {
        "lang": "fr"
      },
      "cell_type": "markdown",
      "source": "Maintenant, nous préparons l'apprentissage (`movie _reviews_ train.vw`), la validation (` movie _reviews_ valid.vw`) et le test (`movie _reviews_ test.vw`) définit pour Vowpal Wabbit. Nous utiliserons 70% pour la formation, 30% pour le reste."
    },
    {
      "metadata": {
        "_cell_guid": "c08edd2b-7290-4e70-9072-895e33923d44",
        "_uuid": "7309769413ef059831390aea012334a5d7482817",
        "trusted": false
      },
      "cell_type": "code",
      "source": "train_share = int(0.7 * len(text_train))\ntrain, valid = text_train[:train_share], text_train[train_share:]\ntrain_labels, valid_labels = y_train[:train_share], y_train[train_share:]",
      "execution_count": 49,
      "outputs": []
    },
    {
      "metadata": {
        "_cell_guid": "a30cddd4-fceb-46ca-87a8-1b7b7d3b36d1",
        "_uuid": "9154377a268f463e98c17432a84a77d03e68052e",
        "trusted": false
      },
      "cell_type": "code",
      "source": "len(train_labels), len(valid_labels)",
      "execution_count": 50,
      "outputs": [
        {
          "data": {
            "text/plain": "(17500, 7500)"
          },
          "execution_count": 50,
          "metadata": {},
          "output_type": "execute_result"
        }
      ]
    },
    {
      "metadata": {
        "_cell_guid": "6d25382f-b135-47f8-a82c-2568ad02f9ff",
        "_uuid": "cce438177377598771a890dc94651de5a6a8495e",
        "trusted": false
      },
      "cell_type": "code",
      "source": "with open(os.path.join(PATH_TO_ALL_DATA, 'movie_reviews_train.vw'), 'w') as vw_train_data:\n    for text, target in zip(train, train_labels):\n        vw_train_data.write(to_vw_format(str(text), 1 if target == 1 else -1))\nwith open(os.path.join(PATH_TO_ALL_DATA, 'movie_reviews_valid.vw'), 'w') as vw_train_data:\n    for text, target in zip(valid, valid_labels):\n        vw_train_data.write(to_vw_format(str(text), 1 if target == 1 else -1))\nwith open(os.path.join(PATH_TO_ALL_DATA, 'movie_reviews_test.vw'), 'w') as vw_test_data:\n    for text in text_test:\n        vw_test_data.write(to_vw_format(str(text)))",
      "execution_count": 51,
      "outputs": []
    },
    {
      "metadata": {
        "_cell_guid": "cb999742-8ad7-428d-8f66-f015d38de4f8",
        "_uuid": "8d87247a0d044e81b545e37ffaa59a96712a252f",
        "trusted": false
      },
      "cell_type": "code",
      "source": "!head -2 $PATH_TO_ALL_DATA/movie_reviews_train.vw",
      "execution_count": 52,
      "outputs": [
        {
          "name": "stdout",
          "output_type": "stream",
          "text": "1 |text zero day leads you think even think why two boys young men would what they did commit mutual suicide via slaughtering their classmates captures what must beyond bizarre mode being for two humans who have decided withdraw from common civility order define their own mutual world via coupled destruction not perfect movie but given what money time the filmmaker and actors had remarkable product terms explaining the motives and actions the two young suicide murderers better than elephant terms being film that gets under our rationalistic skin far far better film than almost anything you are likely see flawed but honest with terrible honesty\r\n-1 |text words can describe how bad this movie can explain writing only you have too see for yourself get grip how horrible movie really can not that recommend you that there are many clich xc3 xa9s mistakes and all other negative things you can imagine here that will just make you cry start with the technical first there are lot mistakes regarding the airplane won list them here but just mention the coloring the plane they didn even manage show airliner the colors fictional airline but instead used 747 painted the original boeing livery very bad the plot stupid and has been done many times before only much much better there are many ridiculous moments here that lost count really early also was the bad guys side all the time the movie because the good guys were stupid executive decision should without doubt you choice over this one even the turbulence movies are better fact every other movie the world better than this one\r\n"
        }
      ]
    },
    {
      "metadata": {
        "_cell_guid": "f25cd0d3-1767-41f1-b7bf-096224619bc5",
        "_uuid": "b63440f7ffebc472ecbe54d8e3aef8c3a3b75fa1",
        "trusted": false
      },
      "cell_type": "code",
      "source": "!head -2 $PATH_TO_ALL_DATA/movie_reviews_valid.vw",
      "execution_count": 53,
      "outputs": [
        {
          "name": "stdout",
          "output_type": "stream",
          "text": "1 |text matter life and death what can you really say that would properly justice the genius and beauty this film powell and pressburger visual imagination knows bounds every frame filled with fantastically bold compositions the switches between the bold colours the real world the stark black and white heaven ingenious showing visually just how much more vibrant life the final court scene also fantastic the judge and jury descend the stairway heaven hold court over peter david niven operation all the performances are spot roger livesey being standout and the romantic energy the film beautiful never has there been more romantic film than this there has haven seen matter life and death all about the power love and just how important life and jack cardiff cinematography reason enough watch the film alone the way lights kim hunter face makes her all the more beautiful what genius can make simple things such game table tennis look exciting and the sound design also impeccable the way the sound mutes vital points was decision way ahead its time this true classic that can restore anyone faith cinema under appreciated its initial release and today audiences but one all time favourites which why give this film word beautiful\r\n1 |text while this was better movie than 101 dalmations live action not animated version think still fell little short what disney could was well filmed the music was more suited the action and the effects were better done compared 101 the acting was perhaps better but then the human characters were given far more appropriate roles this sequel and glenn close really not missed the first movie she makes shine her poor lackey and the overzealous furrier sidekicks are wonderful characters play off and they add the spectacle disney has given this great family film with little objectionable material and yet remains fun and interesting for adults and children alike bound classic many disney films are here hoping the third will even better still because you know they probably want make one\r\n"
        }
      ]
    },
    {
      "metadata": {
        "_cell_guid": "eaa1a658-e6e0-42f1-9c30-14be762fc7d9",
        "_uuid": "fd4e364bad19a64110f7ec839a56a2776222306c",
        "trusted": false
      },
      "cell_type": "code",
      "source": "!head -2 $PATH_TO_ALL_DATA/movie_reviews_test.vw",
      "execution_count": 54,
      "outputs": [
        {
          "name": "stdout",
          "output_type": "stream",
          "text": " |text don hate heather graham because she beautiful hate her because she fun watch this movie like the hip clothing and funky surroundings the actors this flick work well together casey affleck hysterical and heather graham literally lights the screen the minor characters goran visnjic sigh and patricia velazquez are talented they are gorgeous congratulations miramax director lisa krueger\r\n |text don know how this movie has received many positive comments one can call artistic and beautifully filmed but those things don make for the empty plot that was filled with sexual innuendos wish had not wasted time watch this movie rather than being biographical was poor excuse for promoting strange and lewd behavior was just another hollywood attempt convince that that kind life normal and from the very beginning asked self what was the point this movie and continued watching hoping that would change and was quite disappointed that continued the same vein glad did not spend the money see this theater\r\n"
        }
      ]
    },
    {
      "metadata": {
        "lang": "fr"
      },
      "cell_type": "markdown",
      "source": "**Nous lançons maintenant Vowpal Wabbit avec les arguments suivants:**\n\n - `-d`, chemin vers l'ensemble d'entraînement (fichier .vw correspondant)\n - `--loss_function` - charnière (n'hésitez pas à expérimenter ici)\n - `-f` - chemin vers le fichier de sortie (qui peut également être au format .vw)"
    },
    {
      "metadata": {
        "_cell_guid": "89094f9e-7453-4137-87b0-21df78627ae6",
        "_uuid": "4e27dea292bfde2224e802d60c00aad0fbac3274",
        "trusted": false
      },
      "cell_type": "code",
      "source": "!vw -d $PATH_TO_ALL_DATA/movie_reviews_train.vw --loss_function hinge \\\n-f $PATH_TO_ALL_DATA/movie_reviews_model.vw --quiet",
      "execution_count": 55,
      "outputs": []
    },
    {
      "metadata": {
        "lang": "fr"
      },
      "cell_type": "markdown",
      "source": "Ensuite, faites la prédiction de hold-out avec les arguments VW suivants:\n - `-i` - chemin vers le modèle entraîné (fichier .vw)\n - `-d` - chemin vers le jeu d'exclusion (fichier .vw)\n - `-p` - chemin vers un fichier txt où les prédictions seront stockées\n - `-t` - dit à VW d'ignorer les étiquettes"
    },
    {
      "metadata": {
        "_cell_guid": "7fbac967-4a81-4eff-9d31-721a197ed568",
        "_uuid": "c8ae7e58aeacc3e88910b62aff684ab12fb970e1",
        "trusted": false
      },
      "cell_type": "code",
      "source": "!vw -i $PATH_TO_ALL_DATA/movie_reviews_model.vw -t \\\n-d $PATH_TO_ALL_DATA/movie_reviews_valid.vw -p $PATH_TO_ALL_DATA/movie_valid_pred.txt --quiet",
      "execution_count": 56,
      "outputs": []
    },
    {
      "metadata": {
        "lang": "fr"
      },
      "cell_type": "markdown",
      "source": "Lisez les prédictions du fichier texte et estimez la précision et l'AUC ROC. Notez que VW imprime les estimations de probabilité de la classe +1. Ces estimations sont distribuées de -1 à 1, nous pouvons donc les convertir en réponses binaires, en supposant que les valeurs positives appartiennent à la classe 1."
    },
    {
      "metadata": {
        "_cell_guid": "609497c1-de20-436d-9910-018316f36e8e",
        "_uuid": "8cce125db3a615ff84b0892819f1b5f7c680a3e2",
        "trusted": false
      },
      "cell_type": "code",
      "source": "with open(os.path.join(PATH_TO_ALL_DATA, 'movie_valid_pred.txt')) as pred_file:\n    valid_prediction = [float(label) \n                             for label in pred_file.readlines()]\nprint(\"Accuracy: {}\".format(round(accuracy_score(valid_labels, \n               [int(pred_prob > 0) for pred_prob in valid_prediction]), 3)))\nprint(\"AUC: {}\".format(round(roc_auc_score(valid_labels, valid_prediction), 3)))",
      "execution_count": 57,
      "outputs": [
        {
          "name": "stdout",
          "output_type": "stream",
          "text": "Accuracy: 0.885\nAUC: 0.942\n"
        }
      ]
    },
    {
      "metadata": {
        "lang": "fr"
      },
      "cell_type": "markdown",
      "source": "Encore une fois, faites de même pour l'ensemble de test."
    },
    {
      "metadata": {
        "_cell_guid": "aaa8c5c7-aa05-4cdd-a06e-bf7325972691",
        "_uuid": "36f5d2d1336d537c95947e884207ecffe18e2d91",
        "trusted": false
      },
      "cell_type": "code",
      "source": "!vw -i $PATH_TO_ALL_DATA/movie_reviews_model.vw -t \\\n-d $PATH_TO_ALL_DATA/movie_reviews_test.vw \\\n-p $PATH_TO_ALL_DATA/movie_test_pred.txt --quiet",
      "execution_count": 58,
      "outputs": []
    },
    {
      "metadata": {
        "_cell_guid": "7a61e739-89f4-44d1-a290-9ad2be4bdffd",
        "_uuid": "b3cf5f3efa4dbaf05baff4f4900c61665f2d9fee",
        "trusted": false
      },
      "cell_type": "code",
      "source": "with open(os.path.join(PATH_TO_ALL_DATA, 'movie_test_pred.txt')) as pred_file:\n    test_prediction = [float(label) \n                             for label in pred_file.readlines()]\nprint(\"Accuracy: {}\".format(round(accuracy_score(y_test, \n               [int(pred_prob > 0) for pred_prob in test_prediction]), 3)))\nprint(\"AUC: {}\".format(round(roc_auc_score(y_test, test_prediction), 3)))",
      "execution_count": 59,
      "outputs": [
        {
          "name": "stdout",
          "output_type": "stream",
          "text": "Accuracy: 0.88\nAUC: 0.94\n"
        }
      ]
    },
    {
      "metadata": {
        "lang": "fr"
      },
      "cell_type": "markdown",
      "source": "Essayons d'obtenir une plus grande précision en incorporant des bigrammes."
    },
    {
      "metadata": {
        "_cell_guid": "c5b25dce-c730-4031-8938-1b9fa64575b6",
        "_uuid": "98fbb3a6f858b362aef8f797469075eec9072aaf",
        "trusted": false
      },
      "cell_type": "code",
      "source": "!vw -d $PATH_TO_ALL_DATA/movie_reviews_train.vw \\\n--loss_function hinge --ngram 2 -f $PATH_TO_ALL_DATA/movie_reviews_model2.vw --quiet",
      "execution_count": 60,
      "outputs": []
    },
    {
      "metadata": {
        "_cell_guid": "17ceb519-ab1f-4184-b9c2-9eb925b32ea8",
        "_uuid": "48aa4c0a6c58be2781ed607a2393de37083345ae",
        "trusted": false
      },
      "cell_type": "code",
      "source": "!vw -i$PATH_TO_ALL_DATA/movie_reviews_model2.vw -t -d $PATH_TO_ALL_DATA/movie_reviews_valid.vw \\\n-p $PATH_TO_ALL_DATA/movie_valid_pred2.txt --quiet",
      "execution_count": 61,
      "outputs": []
    },
    {
      "metadata": {
        "_cell_guid": "d1c01554-e2b6-4a55-97b9-0d17c8b26686",
        "_uuid": "be78a33c70c03e1bc9a48a25e804248930fba2c2",
        "trusted": false
      },
      "cell_type": "code",
      "source": "with open(os.path.join(PATH_TO_ALL_DATA, 'movie_valid_pred2.txt')) as pred_file:\n    valid_prediction = [float(label) \n                             for label in pred_file.readlines()]\nprint(\"Accuracy: {}\".format(round(accuracy_score(valid_labels, \n               [int(pred_prob > 0) for pred_prob in valid_prediction]), 3)))\nprint(\"AUC: {}\".format(round(roc_auc_score(valid_labels, valid_prediction), 3)))",
      "execution_count": 62,
      "outputs": [
        {
          "name": "stdout",
          "output_type": "stream",
          "text": "Accuracy: 0.894\nAUC: 0.954\n"
        }
      ]
    },
    {
      "metadata": {
        "_cell_guid": "3015a9e6-f814-4beb-9d37-f8c6a2e2c546",
        "_uuid": "f1aa2121a7ee92577ad4058b0688f8290d24e1d5",
        "trusted": false
      },
      "cell_type": "code",
      "source": "!vw -i $PATH_TO_ALL_DATA/movie_reviews_model2.vw -t -d $PATH_TO_ALL_DATA/movie_reviews_test.vw \\\n-p $PATH_TO_ALL_DATA/movie_test_pred2.txt --quiet",
      "execution_count": 63,
      "outputs": []
    },
    {
      "metadata": {
        "_cell_guid": "527e0327-b208-47a0-9853-2e1bd06beb38",
        "_uuid": "22b7b6feb376fcbd44faf942914afaade9368b30",
        "trusted": false
      },
      "cell_type": "code",
      "source": "with open(os.path.join(PATH_TO_ALL_DATA, 'movie_test_pred2.txt')) as pred_file:\n    test_prediction2 = [float(label) \n                             for label in pred_file.readlines()]\nprint(\"Accuracy: {}\".format(round(accuracy_score(y_test, \n               [int(pred_prob > 0) for pred_prob in test_prediction2]), 3)))\nprint(\"AUC: {}\".format(round(roc_auc_score(y_test, test_prediction2), 3)))",
      "execution_count": 64,
      "outputs": [
        {
          "name": "stdout",
          "output_type": "stream",
          "text": "Accuracy: 0.888\nAUC: 0.952\n"
        }
      ]
    },
    {
      "metadata": {
        "lang": "fr"
      },
      "cell_type": "markdown",
      "source": "L'ajout de bigrammes a vraiment aidé à améliorer notre modèle!"
    },
    {
      "metadata": {
        "lang": "fr"
      },
      "cell_type": "markdown",
      "source": "### 3.4. Classer des gigaoctets de questions StackOverflow"
    },
    {
      "metadata": {
        "lang": "fr"
      },
      "cell_type": "markdown",
      "source": "Cette section a été déplacée vers Kaggle, veuillez explorer [ce noyau](https://www.kaggle.com/kashnitsky/topic-8-online-learning-and-vowpal-wabbit)."
    },
    {
      "metadata": {
        "lang": "fr"
      },
      "cell_type": "markdown",
      "source": "## 4. Mission de démonstration\nPour mieux comprendre l'apprentissage stochastique, vous pouvez effectuer [cette tâche](https://www.kaggle.com/kashnitsky/assignment-8-implementing-online-regressor) où il vous sera demandé d'implémenter un régresseur de gradient stochastique à partir de zéro . La mission est juste pour que vous vous entraîniez, et va avec une [solution](https://www.kaggle.com/kashnitsky/a8-demo-implementing-online-regressor-solution).\n\n## 5. Ressources utiles\n- The same notebook as am interactive web-based [Kaggle Kernel](https://www.kaggle.com/kashnitsky/topic-8-online-learning-and-vowpal-wabbit)\n- [\"Training while reading\"](https://www.kaggle.com/kashnitsky/training-while-reading-vowpal-wabbit-starter) - an example of the Python wrapper usage\n- Main course [site](https://mlcourse.ai), [course repo](https://github.com/Yorko/mlcourse.ai), and YouTube [channel](https://www.youtube.com/watch?v=QKTuw4PNOsU&list=PLVlY_7IJCMJeRfZ68eVfEcu-UcN9BbwiX)\n- Course materials as a [Kaggle Dataset](https://www.kaggle.com/kashnitsky/mlcourse)\n- Official VW [documentation](https://github.com/JohnLangford/vowpal_wabbit/wiki) on Github\n- [\"Awesome Vowpal Wabbit\"](https://github.com/VowpalWabbit/vowpal_wabbit/wiki/Awesome-Vowpal-Wabbit) Wiki\n- [Don’t be tricked by the Hashing Trick](https://booking.ai/dont-be-tricked-by-the-hashing-trick-192a6aae3087) - analysis of hash collisions, their dependency on feature space and hashing space dimensions and affecting classification/regression performance\n- [\"Numeric Computation\" Chapter](http://www.deeplearningbook.org/contents/numerical.html) of the [Deep Learning book](http://www.deeplearningbook.org/)\n- [\"Convex Optimization\" by Stephen Boyd](https://www.amazon.com/Convex-Optimization-Stephen-Boyd/dp/0521833787)\n- \"Command-line Tools can be 235x Faster than your Hadoop Cluster\" [post](https://aadrake.com/command-line-tools-can-be-235x-faster-than-your-hadoop-cluster.html)\n- Benchmarking various ML algorithms on Criteo 1TB dataset on [GitHub](https://github.com/rambler-digital-solutions/criteo-1tb-benchmark)\n- [VW on FastML.com](http://fastml.com/blog/categories/vw/)"
    }
  ],
  "metadata": {
    "kernelspec": {
      "name": "python3",
      "display_name": "Python 3",
      "language": "python"
    },
    "language_info": {
      "mimetype": "text/x-python",
      "nbconvert_exporter": "python",
      "name": "python",
      "file_extension": ".py",
      "version": "3.5.4",
      "pygments_lexer": "ipython3",
      "codemirror_mode": {
        "version": 3,
        "name": "ipython"
      }
    },
    "hide_input": false,
    "nbTranslate": {
      "hotkey": "alt-t",
      "sourceLang": "en",
      "targetLang": "fr",
      "displayLangs": [
        "*"
      ],
      "langInMainMenu": true,
      "useGoogleTranslate": true
    },
    "toc": {
      "nav_menu": {},
      "number_sections": false,
      "sideBar": true,
      "skip_h1_title": false,
      "base_numbering": 1,
      "title_cell": "Table of Contents",
      "title_sidebar": "Contents",
      "toc_cell": false,
      "toc_position": {},
      "toc_section_display": true,
      "toc_window_display": false
    },
    "varInspector": {
      "window_display": false,
      "cols": {
        "lenName": 16,
        "lenType": 16,
        "lenVar": 40
      },
      "kernels_config": {
        "python": {
          "library": "var_list.py",
          "delete_cmd_prefix": "del ",
          "delete_cmd_postfix": "",
          "varRefreshCmd": "print(var_dic_list())"
        },
        "r": {
          "library": "var_list.r",
          "delete_cmd_prefix": "rm(",
          "delete_cmd_postfix": ") ",
          "varRefreshCmd": "cat(var_dic_list()) "
        }
      },
      "types_to_exclude": [
        "module",
        "function",
        "builtin_function_or_method",
        "instance",
        "_Feature"
      ]
    }
  },
  "nbformat": 4,
  "nbformat_minor": 1
}